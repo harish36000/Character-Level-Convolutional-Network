{
  "cells": [
    {
      "cell_type": "code",
      "execution_count": 1,
      "metadata": {
        "id": "4e79c805-661a-4db7-9410-197578005c62"
      },
      "outputs": [],
      "source": [
        "# Setting all warnings off\n",
        "import warnings\n",
        "warnings.filterwarnings(\"ignore\")"
      ],
      "id": "4e79c805-661a-4db7-9410-197578005c62"
    },
    {
      "cell_type": "code",
      "execution_count": 2,
      "metadata": {
        "id": "5a3a2eb2-030b-48bf-9801-7f570c823d2c"
      },
      "outputs": [],
      "source": [
        "import pandas as pd\n",
        "import sys\n",
        "import re"
      ],
      "id": "5a3a2eb2-030b-48bf-9801-7f570c823d2c"
    },
    {
      "cell_type": "code",
      "execution_count": 3,
      "metadata": {
        "id": "61eba014-d486-4f48-b8db-ec6d699bd28a"
      },
      "outputs": [],
      "source": [
        "characters = \"abcdefghijklmnopqrstuvwxyz0123456789-,;.!?:'\\\"/\\\\|_@#$%^&*~`+ =<>()[]{}\"\n",
        "characters_2 = \"abcdefghijklmnopqrstuvwxyz@# \"\n",
        "url_chars = r\"(?i)\\b((?:https?://|www\\d{0,3}[.]|[a-z0-9.\\-]+[.][a-z]{2,4}/)(?:[^\\s()<>]+|\\(([^\\s()<>]+|(\\([^\\s()<>]+\\)))*\\))+(?:\\(([^\\s()<>]+|(\\([^\\s()<>]+\\)))*\\)|[^\\s`!()\\[\\]{};:'\\\".,<>?«»“”‘’]))\""
      ],
      "id": "61eba014-d486-4f48-b8db-ec6d699bd28a"
    },
    {
      "cell_type": "code",
      "execution_count": 4,
      "metadata": {
        "id": "5368328a-efc6-4893-9fd9-b9f0edf56895"
      },
      "outputs": [],
      "source": [
        "def lower_case(tweet_data):\n",
        "    for i, tweet in enumerate(tweet_data):\n",
        "        tweet_data.iloc[i] = tweet.lower()\n",
        "    return tweet_data"
      ],
      "id": "5368328a-efc6-4893-9fd9-b9f0edf56895"
    },
    {
      "cell_type": "code",
      "execution_count": 5,
      "metadata": {
        "id": "5fe7516d-9ff6-4646-a4e1-0eed763ababe"
      },
      "outputs": [],
      "source": [
        "def character_clean(tweet_data):\n",
        "    for i, tweet in enumerate(tweet_data):\n",
        "        sentence = ''\n",
        "        for char in tweet:\n",
        "            if char in characters_2:\n",
        "                sentence += char\n",
        "        tweet_data.iloc[i] = sentence\n",
        "    return tweet_data"
      ],
      "id": "5fe7516d-9ff6-4646-a4e1-0eed763ababe"
    },
    {
      "cell_type": "code",
      "execution_count": 6,
      "metadata": {
        "id": "5cdbaca7-2fed-4a90-92e8-2f0e41fb430f"
      },
      "outputs": [],
      "source": [
        "def remove_hastag(tweet_data):\n",
        "    for i, tweet in enumerate(tweet_data):\n",
        "        ignore = 0\n",
        "        sentence = ''\n",
        "        for char in tweet:\n",
        "            if char == '#':\n",
        "                ignore = 1\n",
        "            if ignore == 1 and char == ' ':\n",
        "                ignore = 0\n",
        "            if ignore == 0:\n",
        "                sentence += char\n",
        "        tweet_data.iloc[i] = sentence\n",
        "    return tweet_data"
      ],
      "id": "5cdbaca7-2fed-4a90-92e8-2f0e41fb430f"
    },
    {
      "cell_type": "code",
      "execution_count": 7,
      "metadata": {
        "id": "abe6b07d-293d-419c-8f3c-00b43a7f84e8"
      },
      "outputs": [],
      "source": [
        "def remove_userid(tweet_data):\n",
        "    for i, tweet in enumerate(tweet_data):\n",
        "        ignore = 0\n",
        "        sentence = ''\n",
        "        for char in tweet:\n",
        "            if char == '@':\n",
        "                ignore = 1\n",
        "            if ignore == 1 and char == ' ':\n",
        "                ignore = 0\n",
        "            if ignore == 0:\n",
        "                sentence += char\n",
        "        tweet_data.iloc[i] = sentence\n",
        "    return tweet_data"
      ],
      "id": "abe6b07d-293d-419c-8f3c-00b43a7f84e8"
    },
    {
      "cell_type": "code",
      "execution_count": 8,
      "metadata": {
        "id": "468df2f0-e4db-4b7a-86e5-827d7db1d4cc"
      },
      "outputs": [],
      "source": [
        "def remove_url(tweet_data):\n",
        "    for i, tweet in enumerate(tweet_data):\n",
        "        url = re.findall(url_chars, tweet)\n",
        "        to_remove = [x[0] for x in url]\n",
        "        for _url in to_remove:\n",
        "            tweet = tweet.replace(_url, '')\n",
        "        sentence = tweet\n",
        "        tweet_data.iloc[i] = sentence\n",
        "    return tweet_data"
      ],
      "id": "468df2f0-e4db-4b7a-86e5-827d7db1d4cc"
    },
    {
      "cell_type": "code",
      "execution_count": 8,
      "metadata": {
        "id": "-DTRZ2nY6n-Z"
      },
      "outputs": [],
      "source": [],
      "id": "-DTRZ2nY6n-Z"
    },
    {
      "cell_type": "code",
      "execution_count": 9,
      "metadata": {
        "colab": {
          "base_uri": "https://localhost:8080/"
        },
        "id": "lxUu-LtH6omn",
        "outputId": "70c07eba-d65c-4422-d245-4b79181a3c1f"
      },
      "outputs": [
        {
          "output_type": "stream",
          "name": "stdout",
          "text": [
            "Mounted at /content/drive\n"
          ]
        }
      ],
      "source": [
        "from google.colab import drive\n",
        "drive.mount('/content/drive')"
      ],
      "id": "lxUu-LtH6omn"
    },
    {
      "cell_type": "code",
      "execution_count": 10,
      "metadata": {
        "id": "e90366bd-059b-4c40-8146-afcb19048c7c"
      },
      "outputs": [],
      "source": [
        "file = \"/content/drive/MyDrive/Tweet/training.csv\""
      ],
      "id": "e90366bd-059b-4c40-8146-afcb19048c7c"
    },
    {
      "cell_type": "code",
      "execution_count": 11,
      "metadata": {
        "colab": {
          "base_uri": "https://localhost:8080/"
        },
        "id": "3222d400-aee4-43cd-b6b9-23c6f6a80477",
        "outputId": "2bf957bc-1ea7-405c-e747-0ee550f7d1a2"
      },
      "outputs": [
        {
          "output_type": "execute_result",
          "data": {
            "text/plain": [
              "{'encoding': 'utf-8', 'confidence': 0.99, 'language': ''}"
            ]
          },
          "metadata": {},
          "execution_count": 11
        }
      ],
      "source": [
        "import chardet\n",
        "with open(file, 'rb') as rawdata:\n",
        "    result = chardet.detect(rawdata.read(100000))\n",
        "result"
      ],
      "id": "3222d400-aee4-43cd-b6b9-23c6f6a80477"
    },
    {
      "cell_type": "code",
      "execution_count": 12,
      "metadata": {
        "id": "3f75ec06-9259-493d-af15-12f9221393b9"
      },
      "outputs": [],
      "source": [
        "colnames = [\"target\",\"ids\",\"date\",\"flag\",\"user\",\"text\"]\n",
        "\n",
        "train_data = pd.read_csv(file,encoding='ISO-8859-1',names=colnames, header=None)"
      ],
      "id": "3f75ec06-9259-493d-af15-12f9221393b9"
    },
    {
      "cell_type": "code",
      "execution_count": 13,
      "metadata": {
        "colab": {
          "base_uri": "https://localhost:8080/"
        },
        "id": "0694a4d1-d3f2-44c8-a45c-8ec0a13f13fb",
        "outputId": "c3bad0bb-d9c1-4e59-baf6-f44eb1abeeb8"
      },
      "outputs": [
        {
          "output_type": "execute_result",
          "data": {
            "text/plain": [
              "array([0, 4])"
            ]
          },
          "metadata": {},
          "execution_count": 13
        }
      ],
      "source": [
        "\n",
        "train_data['target'].unique()"
      ],
      "id": "0694a4d1-d3f2-44c8-a45c-8ec0a13f13fb"
    },
    {
      "cell_type": "code",
      "execution_count": 14,
      "metadata": {
        "colab": {
          "base_uri": "https://localhost:8080/"
        },
        "id": "8cda0567-6ed6-4b27-833a-3f9e87306988",
        "outputId": "853b6e64-ee1d-435e-bac0-478b15846741"
      },
      "outputs": [
        {
          "output_type": "execute_result",
          "data": {
            "text/plain": [
              "0    800000\n",
              "4    800000\n",
              "Name: target, dtype: int64"
            ]
          },
          "metadata": {},
          "execution_count": 14
        }
      ],
      "source": [
        "train_data['target'].value_counts()"
      ],
      "id": "8cda0567-6ed6-4b27-833a-3f9e87306988"
    },
    {
      "cell_type": "code",
      "execution_count": 15,
      "metadata": {
        "colab": {
          "base_uri": "https://localhost:8080/"
        },
        "id": "f27a444e-aec6-4588-998f-9e29755011a1",
        "outputId": "285479e7-45e1-44ad-8323-0010d82059fd"
      },
      "outputs": [
        {
          "output_type": "execute_result",
          "data": {
            "text/plain": [
              "250977    @Kardboard yea  ugh. I don't wanna move either...\n",
              "150064    Guess there's a first time for everything, my ...\n",
              "710275    My cousin is going to America and it's NOT FAI...\n",
              "367641    @mitchelmusso Ahh this is my first comment to ...\n",
              "575674    taking care of my good friend jessica she is s...\n",
              "                                ...                        \n",
              "110202    NOT ONLY AM I UP AND CANT SLEEP, I JUST WATCHE...\n",
              "777860    Upset that j1s have taken over my cosy spot in...\n",
              "268962    I'm wondering what to wear today...  I sure wi...\n",
              "983370    @EmoPartyGirl yeh whistlers cool u ever see cr...\n",
              "796007                                Its storm'n ova here \n",
              "Name: text, Length: 160000, dtype: object"
            ]
          },
          "metadata": {},
          "execution_count": 15
        }
      ],
      "source": [
        "train_data_tweet = train_data['text'].sample(frac = 0.10, random_state = 101)\n",
        "train_data_tweet"
      ],
      "id": "f27a444e-aec6-4588-998f-9e29755011a1"
    },
    {
      "cell_type": "markdown",
      "metadata": {
        "id": "74bcbeea-adc0-4333-afd9-3862e2445490"
      },
      "source": [
        "## Preprocessing"
      ],
      "id": "74bcbeea-adc0-4333-afd9-3862e2445490"
    },
    {
      "cell_type": "code",
      "execution_count": 16,
      "metadata": {
        "colab": {
          "base_uri": "https://localhost:8080/"
        },
        "id": "4930c951-45c8-43fb-b8b2-ce9c4bc98fa9",
        "outputId": "b985cdd2-b385-445f-e003-038db522f484"
      },
      "outputs": [
        {
          "output_type": "execute_result",
          "data": {
            "text/plain": [
              "250977    @kardboard yea  ugh. i don't wanna move either...\n",
              "150064    guess there's a first time for everything, my ...\n",
              "710275    my cousin is going to america and it's not fai...\n",
              "367641    @mitchelmusso ahh this is my first comment to ...\n",
              "575674    taking care of my good friend jessica she is s...\n",
              "                                ...                        \n",
              "110202    not only am i up and cant sleep, i just watche...\n",
              "777860    upset that j1s have taken over my cosy spot in...\n",
              "268962    i'm wondering what to wear today...  i sure wi...\n",
              "983370    @emopartygirl yeh whistlers cool u ever see cr...\n",
              "796007                                its storm'n ova here \n",
              "Name: text, Length: 160000, dtype: object"
            ]
          },
          "metadata": {},
          "execution_count": 16
        }
      ],
      "source": [
        "train_data_tweet = lower_case(train_data_tweet)\n",
        "train_data_tweet"
      ],
      "id": "4930c951-45c8-43fb-b8b2-ce9c4bc98fa9"
    },
    {
      "cell_type": "code",
      "execution_count": 17,
      "metadata": {
        "colab": {
          "base_uri": "https://localhost:8080/"
        },
        "id": "27ae0c3a-f0d9-4653-bde9-53a42ef41d16",
        "outputId": "e32f09c0-0435-4386-ae49-e6b7c7045191"
      },
      "outputs": [
        {
          "output_type": "execute_result",
          "data": {
            "text/plain": [
              "250977    @kardboard yea  ugh. i don't wanna move either...\n",
              "150064    guess there's a first time for everything, my ...\n",
              "710275    my cousin is going to america and it's not fai...\n",
              "367641    @mitchelmusso ahh this is my first comment to ...\n",
              "575674    taking care of my good friend jessica she is s...\n",
              "                                ...                        \n",
              "110202    not only am i up and cant sleep, i just watche...\n",
              "777860    upset that j1s have taken over my cosy spot in...\n",
              "268962    i'm wondering what to wear today...  i sure wi...\n",
              "983370    @emopartygirl yeh whistlers cool u ever see cr...\n",
              "796007                                its storm'n ova here \n",
              "Name: text, Length: 160000, dtype: object"
            ]
          },
          "metadata": {},
          "execution_count": 17
        }
      ],
      "source": [
        "train_data_tweet = remove_url(train_data_tweet)\n",
        "train_data_tweet"
      ],
      "id": "27ae0c3a-f0d9-4653-bde9-53a42ef41d16"
    },
    {
      "cell_type": "code",
      "execution_count": 18,
      "metadata": {
        "colab": {
          "base_uri": "https://localhost:8080/"
        },
        "id": "aa67e1ef-94d9-4757-ac7d-1b7240cab663",
        "outputId": "0a12f554-4e65-4d23-a799-e4209b85d27a"
      },
      "outputs": [
        {
          "output_type": "execute_result",
          "data": {
            "text/plain": [
              "250977     yea  ugh. i don't wanna move either because a...\n",
              "150064    guess there's a first time for everything, my ...\n",
              "710275    my cousin is going to america and it's not fai...\n",
              "367641     ahh this is my first comment to youu!! love i...\n",
              "575674    taking care of my good friend jessica she is s...\n",
              "                                ...                        \n",
              "110202    not only am i up and cant sleep, i just watche...\n",
              "777860    upset that j1s have taken over my cosy spot in...\n",
              "268962    i'm wondering what to wear today...  i sure wi...\n",
              "983370       yeh whistlers cool u ever see crankworks comp \n",
              "796007                                its storm'n ova here \n",
              "Name: text, Length: 160000, dtype: object"
            ]
          },
          "metadata": {},
          "execution_count": 18
        }
      ],
      "source": [
        "train_data_tweet = remove_userid(train_data_tweet)\n",
        "train_data_tweet"
      ],
      "id": "aa67e1ef-94d9-4757-ac7d-1b7240cab663"
    },
    {
      "cell_type": "code",
      "execution_count": 19,
      "metadata": {
        "colab": {
          "base_uri": "https://localhost:8080/"
        },
        "id": "47229991-3007-4f7b-8e5c-b6b1af12f61b",
        "outputId": "f472dc7c-0c1f-43d4-b833-9cd880bd77a1"
      },
      "outputs": [
        {
          "output_type": "execute_result",
          "data": {
            "text/plain": [
              "250977     yea  ugh. i don't wanna move either because a...\n",
              "150064    guess there's a first time for everything, my ...\n",
              "710275    my cousin is going to america and it's not fai...\n",
              "367641     ahh this is my first comment to youu!! love i...\n",
              "575674    taking care of my good friend jessica she is s...\n",
              "                                ...                        \n",
              "110202    not only am i up and cant sleep, i just watche...\n",
              "777860    upset that j1s have taken over my cosy spot in...\n",
              "268962    i'm wondering what to wear today...  i sure wi...\n",
              "983370       yeh whistlers cool u ever see crankworks comp \n",
              "796007                                its storm'n ova here \n",
              "Name: text, Length: 160000, dtype: object"
            ]
          },
          "metadata": {},
          "execution_count": 19
        }
      ],
      "source": [
        "#train_data_tweet = remove_hastag(train_data_tweet)\n",
        "train_data_tweet"
      ],
      "id": "47229991-3007-4f7b-8e5c-b6b1af12f61b"
    },
    {
      "cell_type": "code",
      "execution_count": 20,
      "metadata": {
        "colab": {
          "base_uri": "https://localhost:8080/"
        },
        "id": "106271b6-2cee-47ce-9ea0-d43ecc7e98b2",
        "outputId": "5691ffb0-4440-463f-cff0-a590bd6223db"
      },
      "outputs": [
        {
          "output_type": "execute_result",
          "data": {
            "text/plain": [
              "250977     yea  ugh i dont wanna move either because all...\n",
              "150064    guess theres a first time for everything my ca...\n",
              "710275    my cousin is going to america and its not fair...\n",
              "367641     ahh this is my first comment to youu love it ...\n",
              "575674    taking care of my good friend jessica she is s...\n",
              "                                ...                        \n",
              "110202    not only am i up and cant sleep i just watched...\n",
              "777860    upset that js have taken over my cosy spot in ...\n",
              "268962    im wondering what to wear today  i sure wish i...\n",
              "983370       yeh whistlers cool u ever see crankworks comp \n",
              "796007                                 its stormn ova here \n",
              "Name: text, Length: 160000, dtype: object"
            ]
          },
          "metadata": {},
          "execution_count": 20
        }
      ],
      "source": [
        "train_data_tweet = character_clean(train_data_tweet)\n",
        "train_data_tweet"
      ],
      "id": "106271b6-2cee-47ce-9ea0-d43ecc7e98b2"
    },
    {
      "cell_type": "markdown",
      "metadata": {
        "id": "027ccf2c-e83c-4867-a996-12ee56ac6b08"
      },
      "source": [
        "## Feature Extraction"
      ],
      "id": "027ccf2c-e83c-4867-a996-12ee56ac6b08"
    },
    {
      "cell_type": "code",
      "execution_count": 21,
      "metadata": {
        "colab": {
          "base_uri": "https://localhost:8080/"
        },
        "id": "232c852b-0315-4c7d-a23d-b7028525d46d",
        "outputId": "b8801f9b-432c-44e2-916a-9eafee098a35"
      },
      "outputs": [
        {
          "output_type": "stream",
          "name": "stderr",
          "text": [
            "[nltk_data] Downloading package words to /root/nltk_data...\n",
            "[nltk_data]   Unzipping corpora/words.zip.\n"
          ]
        }
      ],
      "source": [
        "\n",
        "import nltk\n",
        "nltk.download('words')\n",
        "words = set(nltk.corpus.words.words())"
      ],
      "id": "232c852b-0315-4c7d-a23d-b7028525d46d"
    },
    {
      "cell_type": "code",
      "execution_count": 22,
      "metadata": {
        "id": "e52f4f1a-7122-4aac-87b6-8c6d6bd1ae29"
      },
      "outputs": [],
      "source": [
        "def remove_nonEng(tweet_data):\n",
        "    for i, tweet in enumerate(tweet_data):\n",
        "        sentence = \" \".join(w for w in nltk.wordpunct_tokenize(tweet) if w.lower() in words or not w.isalpha())\n",
        "        tweet_data.iloc[i] = sentence\n",
        "    return tweet_data"
      ],
      "id": "e52f4f1a-7122-4aac-87b6-8c6d6bd1ae29"
    },
    {
      "cell_type": "code",
      "execution_count": 23,
      "metadata": {
        "id": "f71b5986-5e64-47ed-b3f8-2a27ac17e6ff",
        "scrolled": true
      },
      "outputs": [],
      "source": [
        "# train_data_tweet = remove_nonEng(train_data_tweet)\n",
        "# train_data_tweet"
      ],
      "id": "f71b5986-5e64-47ed-b3f8-2a27ac17e6ff"
    },
    {
      "cell_type": "code",
      "execution_count": 24,
      "metadata": {
        "id": "iQnbpyfKZEab"
      },
      "outputs": [],
      "source": [
        "import tensorflow as tf\n",
        "import numpy as np"
      ],
      "id": "iQnbpyfKZEab"
    },
    {
      "cell_type": "code",
      "execution_count": 25,
      "metadata": {
        "id": "8nTiNyZ7GkTS"
      },
      "outputs": [],
      "source": [
        "# convert string to lower case \n",
        "train_texts = train_data_tweet.values \n",
        "#train_texts = [s.lower() for s in train_texts] \n",
        "\n",
        "#test_texts = test_df[1].values \n",
        "#test_texts = [s.lower() for s in test_texts] \n",
        "\n",
        "#=======================Convert string to index================\n",
        "from keras.preprocessing.text import Tokenizer\n",
        "from tensorflow.keras.utils import pad_sequences\n",
        "\n",
        "# Tokenizer\n",
        "tk = Tokenizer(num_words=None, char_level=True, oov_token='UNK')\n",
        "tk.fit_on_texts(train_texts)\n",
        "# If we already have a character list, then replace the tk.word_index\n",
        "# If not, just skip below part\n",
        "\n",
        "#-----------------------Skip part start--------------------------\n",
        "# construct a new vocabulary \n",
        "alphabet=\"abcdefghijklmnopqrstuvwxyz0123456789 ,;.!?:'\\\"/\\\\|_@#$%^&*~`+-=<>()[]{}\"\n",
        "char_dict = {}\n",
        "for i, char in enumerate(alphabet):\n",
        "    char_dict[char] = i + 1\n",
        "    \n",
        "# Use char_dict to replace the tk.word_index\n",
        "tk.word_index = char_dict.copy() \n",
        "# Add 'UNK' to the vocabulary \n",
        "tk.word_index[tk.oov_token] = max(char_dict.values()) + 1\n",
        "#-----------------------Skip part end----------------------------\n",
        "\n",
        "# Convert string to index \n",
        "train_sequences = tk.texts_to_sequences(train_texts)\n",
        "#test_texts = tk.texts_to_sequences(test_texts)\n",
        "\n",
        "# Padding\n",
        "train_data_tweets = pad_sequences(train_sequences, maxlen=1014, padding='post')\n",
        "#test_data = pad_sequences(test_texts, maxlen=1014, padding='post')\n",
        "\n",
        "# Convert to numpy array\n",
        "train_data_tweets = np.array(train_data_tweets, dtype='float32')\n",
        "#test_data = np.array(test_data, dtype='float32')"
      ],
      "id": "8nTiNyZ7GkTS"
    },
    {
      "cell_type": "code",
      "execution_count": 26,
      "metadata": {
        "colab": {
          "base_uri": "https://localhost:8080/"
        },
        "id": "f23bf998-a8c2-41e9-a1a6-145c5f1fbdda",
        "scrolled": true,
        "outputId": "ab3d0588-2fce-475f-fdfb-3763100afc25"
      },
      "outputs": [
        {
          "output_type": "stream",
          "name": "stdout",
          "text": [
            "{'a': 1, 'b': 2, 'c': 3, 'd': 4, 'e': 5, 'f': 6, 'g': 7, 'h': 8, 'i': 9, 'j': 10, 'k': 11, 'l': 12, 'm': 13, 'n': 14, 'o': 15, 'p': 16, 'q': 17, 'r': 18, 's': 19, 't': 20, 'u': 21, 'v': 22, 'w': 23, 'x': 24, 'y': 25, 'z': 26, '0': 27, '1': 28, '2': 29, '3': 30, '4': 31, '5': 32, '6': 33, '7': 34, '8': 35, '9': 36, ' ': 37, ',': 38, ';': 39, '.': 40, '!': 41, '?': 42, ':': 43, \"'\": 44, '\"': 45, '/': 46, '\\\\': 47, '|': 48, '_': 49, '@': 50, '#': 51, '$': 52, '%': 53, '^': 54, '&': 55, '*': 56, '~': 57, '`': 58, '+': 59, '-': 60, '=': 61, '<': 62, '>': 63, '(': 64, ')': 65, '[': 66, ']': 67, '{': 68, '}': 69, 'UNK': 70}\n"
          ]
        }
      ],
      "source": [
        "print(tk.word_index)"
      ],
      "id": "f23bf998-a8c2-41e9-a1a6-145c5f1fbdda"
    },
    {
      "cell_type": "code",
      "execution_count": 27,
      "metadata": {
        "colab": {
          "base_uri": "https://localhost:8080/"
        },
        "id": "OqSkAUW2h3wu",
        "outputId": "9eedef9d-106a-4128-f777-394009326e16"
      },
      "outputs": [
        {
          "output_type": "execute_result",
          "data": {
            "text/plain": [
              "70"
            ]
          },
          "metadata": {},
          "execution_count": 27
        }
      ],
      "source": [
        "vocab_size = len(tk.word_index)\n",
        "vocab_size"
      ],
      "id": "OqSkAUW2h3wu"
    },
    {
      "cell_type": "code",
      "execution_count": 28,
      "metadata": {
        "id": "81401121-f760-40d3-b277-75e8d59cb5ca"
      },
      "outputs": [],
      "source": [
        "embedding_weights = [] #(71, 70)\n",
        "embedding_weights.append(np.zeros(vocab_size)) # first row is pad\n",
        "\n",
        "for char, i in tk.word_index.items(): # from index 1 to 70\n",
        "    onehot = np.zeros(vocab_size)\n",
        "    onehot[i-1] = 1\n",
        "    embedding_weights.append(onehot)\n",
        "embedding_weights = np.array(embedding_weights)"
      ],
      "id": "81401121-f760-40d3-b277-75e8d59cb5ca"
    },
    {
      "cell_type": "code",
      "execution_count": 29,
      "metadata": {
        "colab": {
          "base_uri": "https://localhost:8080/"
        },
        "id": "e16de45d-a86a-4339-8fde-7081c544bc7e",
        "outputId": "880a0825-e6b2-414d-8e6d-6ff238c87ab8"
      },
      "outputs": [
        {
          "output_type": "stream",
          "name": "stdout",
          "text": [
            "(71, 70)\n"
          ]
        },
        {
          "output_type": "execute_result",
          "data": {
            "text/plain": [
              "array([[0., 0., 0., ..., 0., 0., 0.],\n",
              "       [1., 0., 0., ..., 0., 0., 0.],\n",
              "       [0., 1., 0., ..., 0., 0., 0.],\n",
              "       ...,\n",
              "       [0., 0., 0., ..., 1., 0., 0.],\n",
              "       [0., 0., 0., ..., 0., 1., 0.],\n",
              "       [0., 0., 0., ..., 0., 0., 1.]])"
            ]
          },
          "metadata": {},
          "execution_count": 29
        }
      ],
      "source": [
        "print(embedding_weights.shape) # first row all 0 for PAD, 69 char, last row for UNK\n",
        "embedding_weights"
      ],
      "id": "e16de45d-a86a-4339-8fde-7081c544bc7e"
    },
    {
      "cell_type": "code",
      "execution_count": 30,
      "metadata": {
        "id": "7473502a-13a7-4162-9161-5c7cec478697"
      },
      "outputs": [],
      "source": [
        "from keras.layers import Input, Embedding, Activation, Flatten, Dense\n",
        "from keras.layers import Conv1D, MaxPooling1D, Dropout\n",
        "from keras.models import Model"
      ],
      "id": "7473502a-13a7-4162-9161-5c7cec478697"
    },
    {
      "cell_type": "code",
      "execution_count": 31,
      "metadata": {
        "id": "3fd312ef-ef46-44ca-9d07-a176d7d06bc1"
      },
      "outputs": [],
      "source": [
        "# parameter \n",
        "input_size = 1014\n",
        "#vocab_size = 69\n",
        "embedding_size = 70\n",
        "conv_layers = [[256, 7, 3], \n",
        "               [256, 7, 3], \n",
        "               [256, 3, -1], \n",
        "               [256, 3, -1], \n",
        "               [256, 3, -1], \n",
        "               [256, 3, 3]]\n",
        "\n",
        "fully_connected_layers = [1024, 1024]\n",
        "num_of_classes = 2\n",
        "dropout_p = 0.5\n",
        "optimizer = 'adam'\n",
        "loss = tf.keras.losses.SparseCategoricalCrossentropy()"
      ],
      "id": "3fd312ef-ef46-44ca-9d07-a176d7d06bc1"
    },
    {
      "cell_type": "code",
      "execution_count": 32,
      "metadata": {
        "id": "53e2cfbc-1f9d-442e-9acb-85bc3b41aa84"
      },
      "outputs": [],
      "source": [
        "# Embedding layer Initialization\n",
        "embedding_layer = Embedding(vocab_size+1, \n",
        "                            embedding_size,\n",
        "                            input_length=input_size,\n",
        "                            weights=[embedding_weights])"
      ],
      "id": "53e2cfbc-1f9d-442e-9acb-85bc3b41aa84"
    },
    {
      "cell_type": "code",
      "execution_count": 33,
      "metadata": {
        "id": "4549fb56-af68-4eb6-a1d1-469ce78e0f47",
        "colab": {
          "base_uri": "https://localhost:8080/"
        },
        "outputId": "398af6dc-f3b1-4814-aa1c-a9296df3ff1e"
      },
      "outputs": [
        {
          "output_type": "stream",
          "name": "stdout",
          "text": [
            "Model: \"model\"\n",
            "_________________________________________________________________\n",
            " Layer (type)                Output Shape              Param #   \n",
            "=================================================================\n",
            " input (InputLayer)          [(None, 1014)]            0         \n",
            "                                                                 \n",
            " embedding (Embedding)       (None, 1014, 70)          4970      \n",
            "                                                                 \n",
            " conv1d (Conv1D)             (None, 1008, 256)         125696    \n",
            "                                                                 \n",
            " activation (Activation)     (None, 1008, 256)         0         \n",
            "                                                                 \n",
            " max_pooling1d (MaxPooling1D  (None, 336, 256)         0         \n",
            " )                                                               \n",
            "                                                                 \n",
            " conv1d_1 (Conv1D)           (None, 330, 256)          459008    \n",
            "                                                                 \n",
            " activation_1 (Activation)   (None, 330, 256)          0         \n",
            "                                                                 \n",
            " max_pooling1d_1 (MaxPooling  (None, 110, 256)         0         \n",
            " 1D)                                                             \n",
            "                                                                 \n",
            " conv1d_2 (Conv1D)           (None, 108, 256)          196864    \n",
            "                                                                 \n",
            " activation_2 (Activation)   (None, 108, 256)          0         \n",
            "                                                                 \n",
            " conv1d_3 (Conv1D)           (None, 106, 256)          196864    \n",
            "                                                                 \n",
            " activation_3 (Activation)   (None, 106, 256)          0         \n",
            "                                                                 \n",
            " conv1d_4 (Conv1D)           (None, 104, 256)          196864    \n",
            "                                                                 \n",
            " activation_4 (Activation)   (None, 104, 256)          0         \n",
            "                                                                 \n",
            " conv1d_5 (Conv1D)           (None, 102, 256)          196864    \n",
            "                                                                 \n",
            " activation_5 (Activation)   (None, 102, 256)          0         \n",
            "                                                                 \n",
            " max_pooling1d_2 (MaxPooling  (None, 34, 256)          0         \n",
            " 1D)                                                             \n",
            "                                                                 \n",
            " flatten (Flatten)           (None, 8704)              0         \n",
            "                                                                 \n",
            " dense (Dense)               (None, 1024)              8913920   \n",
            "                                                                 \n",
            " dropout (Dropout)           (None, 1024)              0         \n",
            "                                                                 \n",
            " dense_1 (Dense)             (None, 1024)              1049600   \n",
            "                                                                 \n",
            " dropout_1 (Dropout)         (None, 1024)              0         \n",
            "                                                                 \n",
            " dense_2 (Dense)             (None, 2)                 2050      \n",
            "                                                                 \n",
            "=================================================================\n",
            "Total params: 11,342,700\n",
            "Trainable params: 11,342,700\n",
            "Non-trainable params: 0\n",
            "_________________________________________________________________\n"
          ]
        }
      ],
      "source": [
        "# Model \n",
        "\n",
        "# Input\n",
        "inputs = Input(shape=(input_size,), name='input', dtype='int64')  # shape=(?, 1014)\n",
        "# Embedding \n",
        "x = embedding_layer(inputs)\n",
        "# Conv\n",
        "for filter_num, filter_size, pooling_size in conv_layers:\n",
        "    x = Conv1D(filter_num, filter_size)(x) \n",
        "    x = Activation('relu')(x)\n",
        "    if pooling_size != -1:\n",
        "        x = MaxPooling1D(pool_size=pooling_size)(x) # Final shape=(None, 34, 256)\n",
        "x = Flatten()(x) # (None, 8704)\n",
        "# Fully connected layers \n",
        "for dense_size in fully_connected_layers:\n",
        "    x = Dense(dense_size, activation='relu')(x) # dense_size == 1024\n",
        "    x = Dropout(dropout_p)(x)\n",
        "# Output Layer\n",
        "predictions = Dense(num_of_classes, activation='softmax')(x)\n",
        "# Build model\n",
        "model = Model(inputs=inputs, outputs=predictions)\n",
        "model.compile(optimizer=optimizer, metrics=['accuracy'],\n",
        "              loss= loss) # Adam,\n",
        "model.summary()"
      ],
      "id": "4549fb56-af68-4eb6-a1d1-469ce78e0f47"
    },
    {
      "cell_type": "code",
      "execution_count": 34,
      "metadata": {
        "id": "0413a4ac-e2c2-49c6-805d-912363eead62",
        "colab": {
          "base_uri": "https://localhost:8080/"
        },
        "outputId": "2e8ebd36-1cf7-4af9-b379-3256f476e569"
      },
      "outputs": [
        {
          "output_type": "execute_result",
          "data": {
            "text/plain": [
              "4    80025\n",
              "0    79975\n",
              "Name: target, dtype: int64"
            ]
          },
          "metadata": {},
          "execution_count": 34
        }
      ],
      "source": [
        "train_label = train_data.loc[train_data_tweet.index][\"target\"]\n",
        "train_label.value_counts()"
      ],
      "id": "0413a4ac-e2c2-49c6-805d-912363eead62"
    },
    {
      "cell_type": "code",
      "execution_count": 35,
      "metadata": {
        "id": "4e312e58-0867-4596-b2ca-dc2476028fe3",
        "colab": {
          "base_uri": "https://localhost:8080/"
        },
        "outputId": "bc3b169b-2bb6-4908-bb5f-8d176d86fd47"
      },
      "outputs": [
        {
          "output_type": "execute_result",
          "data": {
            "text/plain": [
              "250977    0\n",
              "150064    0\n",
              "710275    0\n",
              "367641    0\n",
              "575674    0\n",
              "         ..\n",
              "110202    0\n",
              "777860    0\n",
              "268962    0\n",
              "983370    1\n",
              "796007    0\n",
              "Length: 160000, dtype: int8"
            ]
          },
          "metadata": {},
          "execution_count": 35
        }
      ],
      "source": [
        "\n",
        "train_label = train_label.astype('category')\n",
        "train_label = train_label.cat.codes\n",
        "train_label"
      ],
      "id": "4e312e58-0867-4596-b2ca-dc2476028fe3"
    },
    {
      "cell_type": "code",
      "execution_count": 36,
      "metadata": {
        "id": "tiYDBZa5_X91",
        "colab": {
          "base_uri": "https://localhost:8080/"
        },
        "outputId": "6a71dba2-e35a-49f2-f43f-253a048112c1"
      },
      "outputs": [
        {
          "output_type": "execute_result",
          "data": {
            "text/plain": [
              "pandas.core.series.Series"
            ]
          },
          "metadata": {},
          "execution_count": 36
        }
      ],
      "source": [
        "type(train_label)"
      ],
      "id": "tiYDBZa5_X91"
    },
    {
      "cell_type": "code",
      "execution_count": 37,
      "metadata": {
        "id": "oHDtAcf6_8FR",
        "colab": {
          "base_uri": "https://localhost:8080/"
        },
        "outputId": "d7e3d940-db8a-47f4-9781-b30be4e10ef0"
      },
      "outputs": [
        {
          "output_type": "execute_result",
          "data": {
            "text/plain": [
              "numpy.ndarray"
            ]
          },
          "metadata": {},
          "execution_count": 37
        }
      ],
      "source": [
        "train_label = train_label.to_numpy(dtype = int)\n",
        "type(train_label)"
      ],
      "id": "oHDtAcf6_8FR"
    },
    {
      "cell_type": "code",
      "execution_count": 38,
      "metadata": {
        "id": "oXanIJ1-AmN-",
        "colab": {
          "base_uri": "https://localhost:8080/"
        },
        "outputId": "563ef260-eaea-4221-b133-cffcf203ebed"
      },
      "outputs": [
        {
          "output_type": "execute_result",
          "data": {
            "text/plain": [
              "array([0, 1])"
            ]
          },
          "metadata": {},
          "execution_count": 38
        }
      ],
      "source": [
        "np.unique(train_label)"
      ],
      "id": "oXanIJ1-AmN-"
    },
    {
      "cell_type": "code",
      "execution_count": 39,
      "metadata": {
        "id": "d73122fc-5269-417b-9c84-3667be9c828b",
        "colab": {
          "base_uri": "https://localhost:8080/"
        },
        "outputId": "14627a5d-ae91-4e4f-f00e-2908004b76fe"
      },
      "outputs": [
        {
          "output_type": "execute_result",
          "data": {
            "text/plain": [
              "((128000, 1014), (128000,))"
            ]
          },
          "metadata": {},
          "execution_count": 39
        }
      ],
      "source": [
        "from sklearn.model_selection import train_test_split\n",
        "X_train, X_val, y_train, y_val = train_test_split(train_data_tweets, train_label, test_size=0.20, random_state = 101)\n",
        "X_train.shape, y_train.shape"
      ],
      "id": "d73122fc-5269-417b-9c84-3667be9c828b"
    },
    {
      "cell_type": "code",
      "execution_count": 41,
      "metadata": {
        "id": "4df06c23-a740-4931-ad70-705cebaa4b65",
        "colab": {
          "base_uri": "https://localhost:8080/"
        },
        "outputId": "df8cd202-6898-4cf9-ae17-168dd2525365"
      },
      "outputs": [
        {
          "output_type": "stream",
          "name": "stdout",
          "text": [
            "Epoch 1/8\n",
            "500/500 [==============================] - 95s 190ms/step - loss: 0.4812 - accuracy: 0.7730 - val_loss: 0.4810 - val_accuracy: 0.7708\n",
            "Epoch 2/8\n",
            "500/500 [==============================] - 94s 189ms/step - loss: 0.4331 - accuracy: 0.8011 - val_loss: 0.4865 - val_accuracy: 0.7703\n",
            "Epoch 3/8\n",
            "500/500 [==============================] - 97s 194ms/step - loss: 0.3926 - accuracy: 0.8243 - val_loss: 0.4855 - val_accuracy: 0.7808\n",
            "Epoch 4/8\n",
            "500/500 [==============================] - 97s 194ms/step - loss: 0.3451 - accuracy: 0.8490 - val_loss: 0.4868 - val_accuracy: 0.7786\n",
            "Epoch 5/8\n",
            "500/500 [==============================] - 97s 194ms/step - loss: 0.2877 - accuracy: 0.8787 - val_loss: 0.5455 - val_accuracy: 0.7686\n",
            "Epoch 6/8\n",
            "500/500 [==============================] - 97s 195ms/step - loss: 0.2324 - accuracy: 0.9057 - val_loss: 0.6273 - val_accuracy: 0.7604\n",
            "Epoch 7/8\n",
            "500/500 [==============================] - 97s 194ms/step - loss: 0.1838 - accuracy: 0.9266 - val_loss: 0.7276 - val_accuracy: 0.7604\n",
            "Epoch 8/8\n",
            "500/500 [==============================] - 94s 187ms/step - loss: 0.1441 - accuracy: 0.9441 - val_loss: 0.7316 - val_accuracy: 0.7608\n"
          ]
        }
      ],
      "source": [
        "\n",
        "history_1 = model.fit(  X_train, \n",
        "                        y_train,\n",
        "                        epochs = 8,\n",
        "                        batch_size = 256,\n",
        "                        validation_data = (X_val, y_val)\n",
        "                      )"
      ],
      "id": "4df06c23-a740-4931-ad70-705cebaa4b65"
    },
    {
      "cell_type": "code",
      "execution_count": 42,
      "metadata": {
        "id": "7391e49b-0a69-49dd-bb05-d22433b17597",
        "colab": {
          "base_uri": "https://localhost:8080/"
        },
        "outputId": "4523327a-a959-4c42-9640-3b588b9693dd"
      },
      "outputs": [
        {
          "output_type": "stream",
          "name": "stdout",
          "text": [
            "1000/1000 [==============================] - 9s 9ms/step\n"
          ]
        },
        {
          "output_type": "execute_result",
          "data": {
            "text/plain": [
              "array([[11946,  3910],\n",
              "       [ 3743, 12401]])"
            ]
          },
          "metadata": {},
          "execution_count": 42
        }
      ],
      "source": [
        "from sklearn.metrics import confusion_matrix\n",
        "\n",
        "preds = np.argmax(model.predict(X_val), axis=1)\n",
        "confusion_matrix(y_val, preds)"
      ],
      "id": "7391e49b-0a69-49dd-bb05-d22433b17597"
    },
    {
      "cell_type": "code",
      "execution_count": 43,
      "metadata": {
        "id": "-oSkJGbCwWDW",
        "colab": {
          "base_uri": "https://localhost:8080/"
        },
        "outputId": "6baf67fb-c15e-4485-b254-e9a0bdc4565b"
      },
      "outputs": [
        {
          "output_type": "stream",
          "name": "stdout",
          "text": [
            "              precision    recall  f1-score   support\n",
            "\n",
            "    negative       0.76      0.75      0.76     15856\n",
            "    positive       0.76      0.77      0.76     16144\n",
            "\n",
            "    accuracy                           0.76     32000\n",
            "   macro avg       0.76      0.76      0.76     32000\n",
            "weighted avg       0.76      0.76      0.76     32000\n",
            "\n"
          ]
        }
      ],
      "source": [
        "from sklearn.metrics import classification_report\n",
        "\n",
        "target_names = ['negative', 'positive']\n",
        "print(classification_report(y_val, preds, target_names=target_names))"
      ],
      "id": "-oSkJGbCwWDW"
    },
    {
      "cell_type": "markdown",
      "metadata": {
        "id": "d9uwBqIoBj4k"
      },
      "source": [
        "## Validation on test dataset"
      ],
      "id": "d9uwBqIoBj4k"
    },
    {
      "cell_type": "code",
      "execution_count": 44,
      "metadata": {
        "id": "rk12yruLB1bY"
      },
      "outputs": [],
      "source": [
        "test_index = list(set(train_data.index) - set(train_data_tweet.index))\n",
        "test_data = train_data.loc[test_index].sample(frac = 0.1, random_state = 101)"
      ],
      "id": "rk12yruLB1bY"
    },
    {
      "cell_type": "code",
      "execution_count": 46,
      "metadata": {
        "id": "XilN6r4FN-kd"
      },
      "outputs": [],
      "source": [
        "test_data_tweet = test_data['text']\n",
        "test_data_tweet = lower_case(test_data_tweet)\n",
        "test_data_tweet = remove_url(test_data_tweet)\n",
        "test_data_tweet = remove_userid(test_data_tweet)\n",
        "test_data_tweet = remove_hastag(test_data_tweet)\n",
        "test_data_tweet = character_clean(test_data_tweet)"
      ],
      "id": "XilN6r4FN-kd"
    },
    {
      "cell_type": "code",
      "execution_count": 47,
      "metadata": {
        "id": "FsCxvPhZB8qy"
      },
      "outputs": [],
      "source": [
        "test_texts = test_data_tweet.values\n",
        "# Convert string to index \n",
        "test_sequences = tk.texts_to_sequences(test_texts)\n",
        "#test_texts = tk.texts_to_sequences(test_texts)\n",
        "\n",
        "# Padding\n",
        "test_data_tweets = pad_sequences(test_sequences, maxlen=1014, padding='post')\n",
        "#test_data = pad_sequences(test_texts, maxlen=1014, padding='post')\n",
        "\n",
        "# Convert to numpy array\n",
        "test_data_tweets = np.array(test_data_tweets, dtype='float32')\n",
        "#test_data = np.array(test_data, dtype='float32')"
      ],
      "id": "FsCxvPhZB8qy"
    },
    {
      "cell_type": "code",
      "execution_count": 48,
      "metadata": {
        "colab": {
          "base_uri": "https://localhost:8080/"
        },
        "id": "TO22h7CND8-Q",
        "outputId": "6fd196cd-998b-49a1-b0e0-6195d6a319b2"
      },
      "outputs": [
        {
          "output_type": "stream",
          "name": "stdout",
          "text": [
            "0    72032\n",
            "4    71968\n",
            "Name: target, dtype: int64\n"
          ]
        }
      ],
      "source": [
        "test_label = train_data.loc[test_data_tweet.index][\"target\"]\n",
        "print(test_label.value_counts())\n",
        "test_label = test_label.astype('category')\n",
        "test_label = test_label.cat.codes\n",
        "test_label = test_label.to_numpy(dtype = int)"
      ],
      "id": "TO22h7CND8-Q"
    },
    {
      "cell_type": "code",
      "execution_count": 49,
      "metadata": {
        "colab": {
          "base_uri": "https://localhost:8080/"
        },
        "id": "hLVExroBEKE1",
        "outputId": "677620b9-cddc-45a3-eca4-e1a8cfdfa42c"
      },
      "outputs": [
        {
          "output_type": "stream",
          "name": "stdout",
          "text": [
            "4500/4500 [==============================] - 39s 9ms/step\n"
          ]
        },
        {
          "output_type": "execute_result",
          "data": {
            "text/plain": [
              "array([[54641, 17391],\n",
              "       [16593, 55375]])"
            ]
          },
          "metadata": {},
          "execution_count": 49
        }
      ],
      "source": [
        "preds = np.argmax(model.predict(test_data_tweets), axis=1)\n",
        "confusion_matrix(test_label, preds)"
      ],
      "id": "hLVExroBEKE1"
    },
    {
      "cell_type": "code",
      "execution_count": 50,
      "metadata": {
        "id": "MQ4lwv42EP3Y",
        "colab": {
          "base_uri": "https://localhost:8080/"
        },
        "outputId": "5d9e6fae-aa01-41f1-ae48-07cc09363fed"
      },
      "outputs": [
        {
          "output_type": "stream",
          "name": "stdout",
          "text": [
            "              precision    recall  f1-score   support\n",
            "\n",
            "    negative       0.77      0.76      0.76     72032\n",
            "    positive       0.76      0.77      0.77     71968\n",
            "\n",
            "    accuracy                           0.76    144000\n",
            "   macro avg       0.76      0.76      0.76    144000\n",
            "weighted avg       0.76      0.76      0.76    144000\n",
            "\n"
          ]
        }
      ],
      "source": [
        "target_names = ['negative','positive']\n",
        "print(classification_report(test_label, preds, target_names=target_names))"
      ],
      "id": "MQ4lwv42EP3Y"
    }
  ],
  "metadata": {
    "accelerator": "GPU",
    "colab": {
      "provenance": [],
      "collapsed_sections": [
        "74bcbeea-adc0-4333-afd9-3862e2445490"
      ]
    },
    "gpuClass": "standard",
    "kernelspec": {
      "display_name": "Python 3 (ipykernel)",
      "language": "python",
      "name": "python3"
    },
    "language_info": {
      "codemirror_mode": {
        "name": "ipython",
        "version": 3
      },
      "file_extension": ".py",
      "mimetype": "text/x-python",
      "name": "python",
      "nbconvert_exporter": "python",
      "pygments_lexer": "ipython3",
      "version": "3.7.9"
    }
  },
  "nbformat": 4,
  "nbformat_minor": 5
}