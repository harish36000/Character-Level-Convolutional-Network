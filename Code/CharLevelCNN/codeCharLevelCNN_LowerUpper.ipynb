{
  "metadata": {
    "colab": {
      "provenance": [],
      "machine_shape": "hm",
      "collapsed_sections": [
        "74bcbeea-adc0-4333-afd9-3862e2445490",
        "d9uwBqIoBj4k"
      ]
    },
    "gpuClass": "premium",
    "kernelspec": {
      "name": "python3",
      "display_name": "Python 3",
      "language": "python"
    },
    "language_info": {
      "name": "python",
      "version": "3.7.12",
      "mimetype": "text/x-python",
      "codemirror_mode": {
        "name": "ipython",
        "version": 3
      },
      "pygments_lexer": "ipython3",
      "nbconvert_exporter": "python",
      "file_extension": ".py"
    },
    "accelerator": "GPU"
  },
  "nbformat_minor": 5,
  "nbformat": 4,
  "cells": [
    {
      "cell_type": "code",
      "source": [
        "import pandas as pd\n",
        "import sys\n",
        "import re"
      ],
      "metadata": {
        "id": "5a3a2eb2-030b-48bf-9801-7f570c823d2c",
        "execution": {
          "iopub.status.busy": "2022-11-25T05:01:52.199458Z",
          "iopub.execute_input": "2022-11-25T05:01:52.199875Z",
          "iopub.status.idle": "2022-11-25T05:01:52.204833Z",
          "shell.execute_reply.started": "2022-11-25T05:01:52.199839Z",
          "shell.execute_reply": "2022-11-25T05:01:52.203569Z"
        },
        "trusted": true
      },
      "execution_count": null,
      "outputs": [],
      "id": "5a3a2eb2-030b-48bf-9801-7f570c823d2c"
    },
    {
      "cell_type": "code",
      "source": [
        "characters = \"abcdefghijklmnopqrstuvwxyzABCDEFGHIJKLMNOPQRSTUVWXYZ0123456789-,;.!?:'\\\"/\\\\|_@#$%^&*~`+ =<>()[]{}\"\n",
        "characters_2 = \"abcdefghijklmnopqrstuvwxyzABCDEFGHIJKLMNOPQRSTUVWXYZ@# \"\n",
        "url_chars = r\"(?i)\\b((?:https?://|www\\d{0,3}[.]|[a-z0-9.\\-]+[.][a-z]{2,4}/)(?:[^\\s()<>]+|\\(([^\\s()<>]+|(\\([^\\s()<>]+\\)))*\\))+(?:\\(([^\\s()<>]+|(\\([^\\s()<>]+\\)))*\\)|[^\\s`!()\\[\\]{};:'\\\".,<>?«»“”‘’]))\""
      ],
      "metadata": {
        "id": "61eba014-d486-4f48-b8db-ec6d699bd28a",
        "execution": {
          "iopub.status.busy": "2022-11-25T05:11:04.889761Z",
          "iopub.execute_input": "2022-11-25T05:11:04.890180Z",
          "iopub.status.idle": "2022-11-25T05:11:04.895176Z",
          "shell.execute_reply.started": "2022-11-25T05:11:04.890148Z",
          "shell.execute_reply": "2022-11-25T05:11:04.894174Z"
        },
        "trusted": true
      },
      "execution_count": null,
      "outputs": [],
      "id": "61eba014-d486-4f48-b8db-ec6d699bd28a"
    },
    {
      "cell_type": "code",
      "source": [
        "def lower_case(tweet):\n",
        "    return tweet.lower()"
      ],
      "metadata": {
        "id": "5368328a-efc6-4893-9fd9-b9f0edf56895",
        "execution": {
          "iopub.status.busy": "2022-11-25T05:11:05.060630Z",
          "iopub.execute_input": "2022-11-25T05:11:05.061055Z",
          "iopub.status.idle": "2022-11-25T05:11:05.066923Z",
          "shell.execute_reply.started": "2022-11-25T05:11:05.061021Z",
          "shell.execute_reply": "2022-11-25T05:11:05.065604Z"
        },
        "trusted": true
      },
      "execution_count": null,
      "outputs": [],
      "id": "5368328a-efc6-4893-9fd9-b9f0edf56895"
    },
    {
      "cell_type": "code",
      "source": [
        "# def character_clean(tweet_data):\n",
        "#     for i, tweet in enumerate(tweet_data):\n",
        "#         sentence = ''\n",
        "#         for char in tweet:\n",
        "#             if char in characters_2:\n",
        "#                 sentence += char\n",
        "#         tweet_data.iloc[i] = sentence\n",
        "#     return tweet_data\n",
        "\n",
        "def character_clean(tweet):\n",
        "    sentence = ''\n",
        "    for char in tweet:\n",
        "        if char in characters_2:\n",
        "            sentence += char\n",
        "    return sentence"
      ],
      "metadata": {
        "id": "5fe7516d-9ff6-4646-a4e1-0eed763ababe",
        "execution": {
          "iopub.status.busy": "2022-11-25T05:11:05.242864Z",
          "iopub.execute_input": "2022-11-25T05:11:05.243413Z",
          "iopub.status.idle": "2022-11-25T05:11:05.249102Z",
          "shell.execute_reply.started": "2022-11-25T05:11:05.243366Z",
          "shell.execute_reply": "2022-11-25T05:11:05.247953Z"
        },
        "trusted": true
      },
      "execution_count": null,
      "outputs": [],
      "id": "5fe7516d-9ff6-4646-a4e1-0eed763ababe"
    },
    {
      "cell_type": "code",
      "source": [
        "# def remove_hastag(tweet_data):\n",
        "#     for i, tweet in enumerate(tweet_data):\n",
        "#         ignore = 0\n",
        "#         sentence = ''\n",
        "#         for char in tweet:\n",
        "#             if char == '#':\n",
        "#                 ignore = 1\n",
        "#             if ignore == 1 and char == ' ':\n",
        "#                 ignore = 0\n",
        "#             if ignore == 0:\n",
        "#                 sentence += char\n",
        "#         tweet_data.iloc[i] = sentence\n",
        "#     return tweet_data\n",
        "\n",
        "def remove_hastag(tweet):\n",
        "    ignore = 0\n",
        "    sentence = ''\n",
        "    for char in tweet:\n",
        "        if char == '#':\n",
        "            ignore = 1\n",
        "        if ignore == 1 and char == ' ':\n",
        "            ignore = 0\n",
        "        if ignore == 0:\n",
        "            sentence += char\n",
        "    return sentence"
      ],
      "metadata": {
        "id": "5cdbaca7-2fed-4a90-92e8-2f0e41fb430f",
        "execution": {
          "iopub.status.busy": "2022-11-25T05:11:05.445455Z",
          "iopub.execute_input": "2022-11-25T05:11:05.446388Z",
          "iopub.status.idle": "2022-11-25T05:11:05.453046Z",
          "shell.execute_reply.started": "2022-11-25T05:11:05.446341Z",
          "shell.execute_reply": "2022-11-25T05:11:05.451817Z"
        },
        "trusted": true
      },
      "execution_count": null,
      "outputs": [],
      "id": "5cdbaca7-2fed-4a90-92e8-2f0e41fb430f"
    },
    {
      "cell_type": "code",
      "source": [
        "# def remove_userid(tweet_data):\n",
        "#     for i, tweet in enumerate(tweet_data):\n",
        "#         ignore = 0\n",
        "#         sentence = ''\n",
        "#         for char in tweet:\n",
        "#             if char == '@':\n",
        "#                 ignore = 1\n",
        "#             if ignore == 1 and char == ' ':\n",
        "#                 ignore = 0\n",
        "#             if ignore == 0:\n",
        "#                 sentence += char\n",
        "#         tweet_data.iloc[i] = sentence\n",
        "#     return tweet_data\n",
        "\n",
        "def remove_userid(tweet):\n",
        "    ignore = 0\n",
        "    sentence = ''\n",
        "    for char in tweet:\n",
        "        if char == '@':\n",
        "            ignore = 1\n",
        "        if ignore == 1 and char == ' ':\n",
        "            ignore = 0\n",
        "        if ignore == 0:\n",
        "            sentence += char\n",
        "    return sentence"
      ],
      "metadata": {
        "id": "abe6b07d-293d-419c-8f3c-00b43a7f84e8",
        "execution": {
          "iopub.status.busy": "2022-11-25T05:11:05.780952Z",
          "iopub.execute_input": "2022-11-25T05:11:05.782056Z",
          "iopub.status.idle": "2022-11-25T05:11:05.788603Z",
          "shell.execute_reply.started": "2022-11-25T05:11:05.782015Z",
          "shell.execute_reply": "2022-11-25T05:11:05.787502Z"
        },
        "trusted": true
      },
      "execution_count": null,
      "outputs": [],
      "id": "abe6b07d-293d-419c-8f3c-00b43a7f84e8"
    },
    {
      "cell_type": "code",
      "source": [
        "# def remove_url(tweet_data):\n",
        "#     for i, tweet in enumerate(tweet_data):\n",
        "#         url = re.findall(url_chars, tweet)\n",
        "#         to_remove = [x[0] for x in url]\n",
        "#         for _url in to_remove:\n",
        "#             tweet = tweet.replace(_url, '')\n",
        "#         sentence = tweet\n",
        "#         tweet_data.iloc[i] = sentence\n",
        "#     return tweet_data\n",
        "\n",
        "def remove_url(tweet):\n",
        "    url = re.findall(url_chars, tweet)\n",
        "    to_remove = [x[0] for x in url]\n",
        "    for _url in to_remove:\n",
        "        tweet = tweet.replace(_url, '')\n",
        "    return tweet"
      ],
      "metadata": {
        "id": "468df2f0-e4db-4b7a-86e5-827d7db1d4cc",
        "execution": {
          "iopub.status.busy": "2022-11-25T05:11:06.166287Z",
          "iopub.execute_input": "2022-11-25T05:11:06.167051Z",
          "iopub.status.idle": "2022-11-25T05:11:06.173242Z",
          "shell.execute_reply.started": "2022-11-25T05:11:06.167007Z",
          "shell.execute_reply": "2022-11-25T05:11:06.171968Z"
        },
        "trusted": true
      },
      "execution_count": null,
      "outputs": [],
      "id": "468df2f0-e4db-4b7a-86e5-827d7db1d4cc"
    },
    {
      "cell_type": "code",
      "source": [
        "# from google.colab import drive\n",
        "# drive.mount('/content/drive')"
      ],
      "metadata": {
        "id": "-DTRZ2nY6n-Z"
      },
      "execution_count": null,
      "outputs": [],
      "id": "-DTRZ2nY6n-Z"
    },
    {
      "cell_type": "code",
      "source": [
        "file = \"/content/drive/MyDrive/Tweet/training.csv\""
      ],
      "metadata": {
        "id": "e90366bd-059b-4c40-8146-afcb19048c7c",
        "execution": {
          "iopub.status.busy": "2022-11-25T05:02:48.776164Z",
          "iopub.execute_input": "2022-11-25T05:02:48.776572Z",
          "iopub.status.idle": "2022-11-25T05:02:48.782339Z",
          "shell.execute_reply.started": "2022-11-25T05:02:48.776539Z",
          "shell.execute_reply": "2022-11-25T05:02:48.780797Z"
        },
        "trusted": true
      },
      "execution_count": null,
      "outputs": [],
      "id": "e90366bd-059b-4c40-8146-afcb19048c7c"
    },
    {
      "cell_type": "code",
      "source": [
        "from google.colab import drive\n",
        "drive.mount('/content/drive')"
      ],
      "metadata": {
        "colab": {
          "base_uri": "https://localhost:8080/"
        },
        "id": "M4HRUgVfgWfZ",
        "outputId": "0ac8b8d1-d538-4dbe-c3e8-09c2b169b42f"
      },
      "id": "M4HRUgVfgWfZ",
      "execution_count": null,
      "outputs": [
        {
          "output_type": "stream",
          "name": "stdout",
          "text": [
            "Mounted at /content/drive\n"
          ]
        }
      ]
    },
    {
      "cell_type": "code",
      "source": [
        "import chardet\n",
        "with open(file, 'rb') as rawdata:\n",
        "    result = chardet.detect(rawdata.read(100000))\n",
        "result"
      ],
      "metadata": {
        "colab": {
          "base_uri": "https://localhost:8080/"
        },
        "id": "3222d400-aee4-43cd-b6b9-23c6f6a80477",
        "outputId": "579f4efb-99b4-480e-d927-2391017b1c8a",
        "execution": {
          "iopub.status.busy": "2022-11-25T05:02:51.198572Z",
          "iopub.execute_input": "2022-11-25T05:02:51.199016Z",
          "iopub.status.idle": "2022-11-25T05:02:51.459506Z",
          "shell.execute_reply.started": "2022-11-25T05:02:51.198979Z",
          "shell.execute_reply": "2022-11-25T05:02:51.458059Z"
        },
        "trusted": true
      },
      "execution_count": null,
      "outputs": [
        {
          "output_type": "execute_result",
          "data": {
            "text/plain": [
              "{'encoding': 'utf-8', 'confidence': 0.99, 'language': ''}"
            ]
          },
          "metadata": {},
          "execution_count": 11
        }
      ],
      "id": "3222d400-aee4-43cd-b6b9-23c6f6a80477"
    },
    {
      "cell_type": "code",
      "source": [
        "colnames = [\"target\",\"ids\",\"date\",\"flag\",\"user\",\"text\"]\n",
        "\n",
        "train_data = pd.read_csv(file,encoding='ISO-8859-1',names=colnames, header=None)"
      ],
      "metadata": {
        "id": "3f75ec06-9259-493d-af15-12f9221393b9",
        "execution": {
          "iopub.status.busy": "2022-11-25T05:02:52.928681Z",
          "iopub.execute_input": "2022-11-25T05:02:52.929480Z",
          "iopub.status.idle": "2022-11-25T05:03:00.650013Z",
          "shell.execute_reply.started": "2022-11-25T05:02:52.929427Z",
          "shell.execute_reply": "2022-11-25T05:03:00.648815Z"
        },
        "trusted": true
      },
      "execution_count": null,
      "outputs": [],
      "id": "3f75ec06-9259-493d-af15-12f9221393b9"
    },
    {
      "cell_type": "code",
      "source": [
        "\n",
        "train_data['target'].unique()"
      ],
      "metadata": {
        "colab": {
          "base_uri": "https://localhost:8080/"
        },
        "id": "0694a4d1-d3f2-44c8-a45c-8ec0a13f13fb",
        "outputId": "5b4733a6-20ac-4930-d90d-e6869bc6e45c",
        "execution": {
          "iopub.status.busy": "2022-11-25T05:03:02.157178Z",
          "iopub.execute_input": "2022-11-25T05:03:02.157604Z",
          "iopub.status.idle": "2022-11-25T05:03:02.186698Z",
          "shell.execute_reply.started": "2022-11-25T05:03:02.157567Z",
          "shell.execute_reply": "2022-11-25T05:03:02.185370Z"
        },
        "trusted": true
      },
      "execution_count": null,
      "outputs": [
        {
          "output_type": "execute_result",
          "data": {
            "text/plain": [
              "array([0, 4])"
            ]
          },
          "metadata": {},
          "execution_count": 13
        }
      ],
      "id": "0694a4d1-d3f2-44c8-a45c-8ec0a13f13fb"
    },
    {
      "cell_type": "code",
      "source": [
        "train_data['target'].value_counts()"
      ],
      "metadata": {
        "colab": {
          "base_uri": "https://localhost:8080/"
        },
        "id": "8cda0567-6ed6-4b27-833a-3f9e87306988",
        "outputId": "d7d80d47-01d8-4614-9f7e-11ddb3ee07bd",
        "execution": {
          "iopub.status.busy": "2022-11-25T05:03:02.942338Z",
          "iopub.execute_input": "2022-11-25T05:03:02.942739Z",
          "iopub.status.idle": "2022-11-25T05:03:02.966978Z",
          "shell.execute_reply.started": "2022-11-25T05:03:02.942705Z",
          "shell.execute_reply": "2022-11-25T05:03:02.965661Z"
        },
        "trusted": true
      },
      "execution_count": null,
      "outputs": [
        {
          "output_type": "execute_result",
          "data": {
            "text/plain": [
              "0    800000\n",
              "4    800000\n",
              "Name: target, dtype: int64"
            ]
          },
          "metadata": {},
          "execution_count": 14
        }
      ],
      "id": "8cda0567-6ed6-4b27-833a-3f9e87306988"
    },
    {
      "cell_type": "code",
      "source": [
        "train_data_tweet = train_data['text'].sample(frac = 1, random_state = 101)\n",
        "train_data_tweet"
      ],
      "metadata": {
        "colab": {
          "base_uri": "https://localhost:8080/"
        },
        "id": "f27a444e-aec6-4588-998f-9e29755011a1",
        "outputId": "662eb4cb-2745-4870-b438-cf588299ed35",
        "execution": {
          "iopub.status.busy": "2022-11-25T05:03:08.172966Z",
          "iopub.execute_input": "2022-11-25T05:03:08.173380Z",
          "iopub.status.idle": "2022-11-25T05:03:08.514050Z",
          "shell.execute_reply.started": "2022-11-25T05:03:08.173349Z",
          "shell.execute_reply": "2022-11-25T05:03:08.512806Z"
        },
        "trusted": true
      },
      "execution_count": null,
      "outputs": [
        {
          "output_type": "execute_result",
          "data": {
            "text/plain": [
              "250977     @Kardboard yea  ugh. I don't wanna move either...\n",
              "150064     Guess there's a first time for everything, my ...\n",
              "710275     My cousin is going to America and it's NOT FAI...\n",
              "367641     @mitchelmusso Ahh this is my first comment to ...\n",
              "575674     taking care of my good friend jessica she is s...\n",
              "                                 ...                        \n",
              "661055     @BrianJRussell http://twitpic.com/7r45l - OUCH...\n",
              "204614     Have just seen the fittest guy ever ever ever ...\n",
              "1525073                               Gotzzz my phone back! \n",
              "1263115    well I'm back, hair is washed, now it's all so...\n",
              "1225567    @ErinSchmidt I love half naked chicks in water...\n",
              "Name: text, Length: 1600000, dtype: object"
            ]
          },
          "metadata": {},
          "execution_count": 15
        }
      ],
      "id": "f27a444e-aec6-4588-998f-9e29755011a1"
    },
    {
      "cell_type": "markdown",
      "source": [
        "## Preprocessing"
      ],
      "metadata": {
        "id": "74bcbeea-adc0-4333-afd9-3862e2445490"
      },
      "id": "74bcbeea-adc0-4333-afd9-3862e2445490"
    },
    {
      "cell_type": "code",
      "source": [
        "import numpy as np"
      ],
      "metadata": {
        "id": "itKwm30Ag6iu"
      },
      "id": "itKwm30Ag6iu",
      "execution_count": null,
      "outputs": []
    },
    {
      "cell_type": "code",
      "source": [
        "#train_data_tweet = pd.Series(np.vectorize(lower_case)(train_data_tweet),train_data_tweet.index)\n",
        "#train_data_tweet"
      ],
      "metadata": {
        "execution": {
          "iopub.status.busy": "2022-11-25T05:07:09.079677Z",
          "iopub.execute_input": "2022-11-25T05:07:09.080125Z",
          "iopub.status.idle": "2022-11-25T05:07:12.879128Z",
          "shell.execute_reply.started": "2022-11-25T05:07:09.080087Z",
          "shell.execute_reply": "2022-11-25T05:07:12.877822Z"
        },
        "trusted": true,
        "id": "JveoMTzwfqAK"
      },
      "execution_count": null,
      "outputs": [],
      "id": "JveoMTzwfqAK"
    },
    {
      "cell_type": "code",
      "source": [
        "train_data_tweet = pd.Series(np.vectorize(remove_url)(train_data_tweet),train_data_tweet.index)\n",
        "train_data_tweet"
      ],
      "metadata": {
        "colab": {
          "base_uri": "https://localhost:8080/"
        },
        "id": "27ae0c3a-f0d9-4653-bde9-53a42ef41d16",
        "outputId": "a48b249c-dc4c-46d7-96eb-59e875fbb54f",
        "execution": {
          "iopub.status.busy": "2022-11-25T05:11:38.550252Z",
          "iopub.execute_input": "2022-11-25T05:11:38.550682Z",
          "iopub.status.idle": "2022-11-25T05:11:52.993852Z",
          "shell.execute_reply.started": "2022-11-25T05:11:38.550634Z",
          "shell.execute_reply": "2022-11-25T05:11:52.992536Z"
        },
        "trusted": true
      },
      "execution_count": null,
      "outputs": [
        {
          "output_type": "execute_result",
          "data": {
            "text/plain": [
              "250977     @Kardboard yea  ugh. I don't wanna move either...\n",
              "150064     Guess there's a first time for everything, my ...\n",
              "710275     My cousin is going to America and it's NOT FAI...\n",
              "367641     @mitchelmusso Ahh this is my first comment to ...\n",
              "575674     taking care of my good friend jessica she is s...\n",
              "                                 ...                        \n",
              "661055     @BrianJRussell  - OUCH!! it hurts me just to l...\n",
              "204614     Have just seen the fittest guy ever ever ever ...\n",
              "1525073                               Gotzzz my phone back! \n",
              "1263115    well I'm back, hair is washed, now it's all so...\n",
              "1225567    @ErinSchmidt I love half naked chicks in water...\n",
              "Length: 1600000, dtype: object"
            ]
          },
          "metadata": {},
          "execution_count": 18
        }
      ],
      "id": "27ae0c3a-f0d9-4653-bde9-53a42ef41d16"
    },
    {
      "cell_type": "code",
      "source": [
        "train_data_tweet = pd.Series(np.vectorize(remove_userid)(train_data_tweet),train_data_tweet.index)\n",
        "train_data_tweet"
      ],
      "metadata": {
        "colab": {
          "base_uri": "https://localhost:8080/"
        },
        "id": "aa67e1ef-94d9-4757-ac7d-1b7240cab663",
        "outputId": "ce57bbfe-ff30-4b18-8a88-a600818de689",
        "execution": {
          "iopub.status.busy": "2022-11-25T05:12:07.165850Z",
          "iopub.execute_input": "2022-11-25T05:12:07.166258Z",
          "iopub.status.idle": "2022-11-25T05:12:31.168681Z",
          "shell.execute_reply.started": "2022-11-25T05:12:07.166226Z",
          "shell.execute_reply": "2022-11-25T05:12:31.167533Z"
        },
        "trusted": true
      },
      "execution_count": null,
      "outputs": [
        {
          "output_type": "execute_result",
          "data": {
            "text/plain": [
              "250977      yea  ugh. I don't wanna move either because a...\n",
              "150064     Guess there's a first time for everything, my ...\n",
              "710275     My cousin is going to America and it's NOT FAI...\n",
              "367641      Ahh this is my first comment to youu!! Love i...\n",
              "575674     taking care of my good friend jessica she is s...\n",
              "                                 ...                        \n",
              "661055             - OUCH!! it hurts me just to look at him \n",
              "204614     Have just seen the fittest guy ever ever ever ...\n",
              "1525073                               Gotzzz my phone back! \n",
              "1263115    well I'm back, hair is washed, now it's all so...\n",
              "1225567     I love half naked chicks in waterfalls! No id...\n",
              "Length: 1600000, dtype: object"
            ]
          },
          "metadata": {},
          "execution_count": 19
        }
      ],
      "id": "aa67e1ef-94d9-4757-ac7d-1b7240cab663"
    },
    {
      "cell_type": "markdown",
      "source": [
        "## Feature Extraction"
      ],
      "metadata": {
        "id": "027ccf2c-e83c-4867-a996-12ee56ac6b08"
      },
      "id": "027ccf2c-e83c-4867-a996-12ee56ac6b08"
    },
    {
      "cell_type": "code",
      "source": [
        "\n",
        "import nltk\n",
        "nltk.download('words')\n",
        "words = set(nltk.corpus.words.words())"
      ],
      "metadata": {
        "colab": {
          "base_uri": "https://localhost:8080/"
        },
        "id": "232c852b-0315-4c7d-a23d-b7028525d46d",
        "outputId": "ef824241-4410-43ff-c349-0756080a7e19",
        "execution": {
          "iopub.status.busy": "2022-11-25T05:13:31.545276Z",
          "iopub.execute_input": "2022-11-25T05:13:31.546002Z",
          "iopub.status.idle": "2022-11-25T05:13:33.172176Z",
          "shell.execute_reply.started": "2022-11-25T05:13:31.545964Z",
          "shell.execute_reply": "2022-11-25T05:13:33.170961Z"
        },
        "trusted": true
      },
      "execution_count": null,
      "outputs": [
        {
          "output_type": "stream",
          "name": "stderr",
          "text": [
            "[nltk_data] Downloading package words to /root/nltk_data...\n",
            "[nltk_data]   Unzipping corpora/words.zip.\n"
          ]
        }
      ],
      "id": "232c852b-0315-4c7d-a23d-b7028525d46d"
    },
    {
      "cell_type": "code",
      "source": [
        "def remove_nonEng(tweet):\n",
        "    sentence = \" \".join(w for w in nltk.wordpunct_tokenize(tweet) if w.lower() in words or not w.isalpha())\n",
        "    return sentence"
      ],
      "metadata": {
        "id": "e52f4f1a-7122-4aac-87b6-8c6d6bd1ae29",
        "execution": {
          "iopub.status.busy": "2022-11-25T05:14:13.618067Z",
          "iopub.execute_input": "2022-11-25T05:14:13.618451Z",
          "iopub.status.idle": "2022-11-25T05:14:13.624192Z",
          "shell.execute_reply.started": "2022-11-25T05:14:13.618421Z",
          "shell.execute_reply": "2022-11-25T05:14:13.623120Z"
        },
        "trusted": true
      },
      "execution_count": null,
      "outputs": [],
      "id": "e52f4f1a-7122-4aac-87b6-8c6d6bd1ae29"
    },
    {
      "cell_type": "code",
      "source": [
        "import numpy as np"
      ],
      "metadata": {
        "id": "KpIK5pL8g1B7"
      },
      "id": "KpIK5pL8g1B7",
      "execution_count": null,
      "outputs": []
    },
    {
      "cell_type": "code",
      "source": [
        "#train_data_tweet = pd.Series(np.vectorize(remove_nonEng)(train_data_tweet),train_data_tweet.index)\n",
        "#train_data_tweet"
      ],
      "metadata": {
        "id": "f71b5986-5e64-47ed-b3f8-2a27ac17e6ff",
        "scrolled": true,
        "execution": {
          "iopub.status.busy": "2022-11-25T05:14:29.212215Z",
          "iopub.execute_input": "2022-11-25T05:14:29.212646Z",
          "iopub.status.idle": "2022-11-25T05:14:46.074286Z",
          "shell.execute_reply.started": "2022-11-25T05:14:29.212612Z",
          "shell.execute_reply": "2022-11-25T05:14:46.073160Z"
        },
        "trusted": true
      },
      "execution_count": null,
      "outputs": [],
      "id": "f71b5986-5e64-47ed-b3f8-2a27ac17e6ff"
    },
    {
      "cell_type": "code",
      "source": [
        "import tensorflow as tf\n",
        "import numpy as np"
      ],
      "metadata": {
        "id": "iQnbpyfKZEab",
        "execution": {
          "iopub.status.busy": "2022-11-25T05:17:00.328030Z",
          "iopub.execute_input": "2022-11-25T05:17:00.328435Z",
          "iopub.status.idle": "2022-11-25T05:17:00.333952Z",
          "shell.execute_reply.started": "2022-11-25T05:17:00.328400Z",
          "shell.execute_reply": "2022-11-25T05:17:00.332501Z"
        },
        "trusted": true
      },
      "execution_count": null,
      "outputs": [],
      "id": "iQnbpyfKZEab"
    },
    {
      "cell_type": "code",
      "source": [
        "# convert string to lower case \n",
        "train_texts = train_data_tweet.values \n",
        "\n",
        "#=======================Convert string to index================\n",
        "from keras.preprocessing.text import Tokenizer\n",
        "from tensorflow.keras.preprocessing.sequence import pad_sequences\n",
        "\n",
        "# Tokenizer\n",
        "tk = Tokenizer(num_words=None, char_level=True, oov_token='UNK')\n",
        "tk.fit_on_texts(train_texts)\n",
        "# If we already have a character list, then replace the tk.word_index\n",
        "# If not, just skip below part\n",
        "\n",
        "#-----------------------Skip part start--------------------------\n",
        "# construct a new vocabulary \n",
        "alphabet=\"abcdefghijklmnopqrstuvwxyzABCDEFGHIJKLMNOPQRSTUVWXYZ0123456789 ,;.!?:'\\\"/\\\\|_@#$%^&*~`+-=<>()[]{}\"\n",
        "char_dict = {}\n",
        "for i, char in enumerate(alphabet):\n",
        "    char_dict[char] = i + 1\n",
        "    \n",
        "# Use char_dict to replace the tk.word_index\n",
        "tk.word_index = char_dict.copy() \n",
        "# Add 'UNK' to the vocabulary \n",
        "tk.word_index[tk.oov_token] = max(char_dict.values()) + 1\n",
        "#-----------------------Skip part end----------------------------\n",
        "\n",
        "# Convert string to index \n",
        "train_sequences = tk.texts_to_sequences(train_texts)\n",
        "#test_texts = tk.texts_to_sequences(test_texts)\n",
        "\n",
        "# Padding\n",
        "train_data_tweets = pad_sequences(train_sequences, maxlen=np.vectorize(len)(train_data[\"text\"]).max(), padding='post')\n",
        "#test_data = pad_sequences(test_texts, maxlen=1014, padding='post')\n",
        "\n",
        "# Convert to numpy array\n",
        "train_data_tweets = np.array(train_data_tweets, dtype='float32')\n",
        "#test_data = np.array(test_data, dtype='float32')"
      ],
      "metadata": {
        "id": "8nTiNyZ7GkTS",
        "execution": {
          "iopub.status.busy": "2022-11-25T05:17:12.486603Z",
          "iopub.execute_input": "2022-11-25T05:17:12.487818Z",
          "iopub.status.idle": "2022-11-25T05:18:24.943001Z",
          "shell.execute_reply.started": "2022-11-25T05:17:12.487765Z",
          "shell.execute_reply": "2022-11-25T05:18:24.941822Z"
        },
        "trusted": true
      },
      "execution_count": null,
      "outputs": [],
      "id": "8nTiNyZ7GkTS"
    },
    {
      "cell_type": "code",
      "source": [
        "print(tk.word_index)"
      ],
      "metadata": {
        "colab": {
          "base_uri": "https://localhost:8080/"
        },
        "id": "f23bf998-a8c2-41e9-a1a6-145c5f1fbdda",
        "scrolled": true,
        "outputId": "34baecc1-d2ae-49cf-d481-12ee81a6a7f3",
        "execution": {
          "iopub.status.busy": "2022-11-25T05:18:24.945160Z",
          "iopub.execute_input": "2022-11-25T05:18:24.945509Z",
          "iopub.status.idle": "2022-11-25T05:18:24.951276Z",
          "shell.execute_reply.started": "2022-11-25T05:18:24.945476Z",
          "shell.execute_reply": "2022-11-25T05:18:24.950050Z"
        },
        "trusted": true
      },
      "execution_count": null,
      "outputs": [
        {
          "output_type": "stream",
          "name": "stdout",
          "text": [
            "{'a': 1, 'b': 2, 'c': 3, 'd': 4, 'e': 5, 'f': 6, 'g': 7, 'h': 8, 'i': 9, 'j': 10, 'k': 11, 'l': 12, 'm': 13, 'n': 14, 'o': 15, 'p': 16, 'q': 17, 'r': 18, 's': 19, 't': 20, 'u': 21, 'v': 22, 'w': 23, 'x': 24, 'y': 25, 'z': 26, 'A': 27, 'B': 28, 'C': 29, 'D': 30, 'E': 31, 'F': 32, 'G': 33, 'H': 34, 'I': 35, 'J': 36, 'K': 37, 'L': 38, 'M': 39, 'N': 40, 'O': 41, 'P': 42, 'Q': 43, 'R': 44, 'S': 45, 'T': 46, 'U': 47, 'V': 48, 'W': 49, 'X': 50, 'Y': 51, 'Z': 52, '0': 53, '1': 54, '2': 55, '3': 56, '4': 57, '5': 58, '6': 59, '7': 60, '8': 61, '9': 62, ' ': 63, ',': 64, ';': 65, '.': 66, '!': 67, '?': 68, ':': 69, \"'\": 70, '\"': 71, '/': 72, '\\\\': 73, '|': 74, '_': 75, '@': 76, '#': 77, '$': 78, '%': 79, '^': 80, '&': 81, '*': 82, '~': 83, '`': 84, '+': 85, '-': 86, '=': 87, '<': 88, '>': 89, '(': 90, ')': 91, '[': 92, ']': 93, '{': 94, '}': 95, 'UNK': 96}\n"
          ]
        }
      ],
      "id": "f23bf998-a8c2-41e9-a1a6-145c5f1fbdda"
    },
    {
      "cell_type": "code",
      "source": [
        "\n",
        "vocab_size = len(tk.word_index)\n",
        "vocab_size"
      ],
      "metadata": {
        "colab": {
          "base_uri": "https://localhost:8080/"
        },
        "id": "OqSkAUW2h3wu",
        "outputId": "d6aeedbe-fc79-4001-ef48-94cdc4e451cb",
        "execution": {
          "iopub.status.busy": "2022-11-25T05:18:24.953470Z",
          "iopub.execute_input": "2022-11-25T05:18:24.953891Z",
          "iopub.status.idle": "2022-11-25T05:18:24.965896Z",
          "shell.execute_reply.started": "2022-11-25T05:18:24.953857Z",
          "shell.execute_reply": "2022-11-25T05:18:24.964817Z"
        },
        "trusted": true
      },
      "execution_count": null,
      "outputs": [
        {
          "output_type": "execute_result",
          "data": {
            "text/plain": [
              "96"
            ]
          },
          "metadata": {},
          "execution_count": 29
        }
      ],
      "id": "OqSkAUW2h3wu"
    },
    {
      "cell_type": "code",
      "source": [
        "embedding_weights = [] #(71, 70)\n",
        "embedding_weights.append(np.zeros(vocab_size)) # first row is pad\n",
        "\n",
        "for char, i in tk.word_index.items(): # from index 1 to 70\n",
        "    onehot = np.zeros(vocab_size)\n",
        "    onehot[i-1] = 1\n",
        "    embedding_weights.append(onehot)\n",
        "embedding_weights = np.array(embedding_weights)"
      ],
      "metadata": {
        "id": "81401121-f760-40d3-b277-75e8d59cb5ca",
        "execution": {
          "iopub.status.busy": "2022-11-25T05:18:24.968151Z",
          "iopub.execute_input": "2022-11-25T05:18:24.968935Z",
          "iopub.status.idle": "2022-11-25T05:18:24.975651Z",
          "shell.execute_reply.started": "2022-11-25T05:18:24.968880Z",
          "shell.execute_reply": "2022-11-25T05:18:24.974444Z"
        },
        "trusted": true
      },
      "execution_count": null,
      "outputs": [],
      "id": "81401121-f760-40d3-b277-75e8d59cb5ca"
    },
    {
      "cell_type": "code",
      "source": [
        "print(embedding_weights.shape) # first row all 0 for PAD, 69 char, last row for UNK\n",
        "embedding_weights"
      ],
      "metadata": {
        "colab": {
          "base_uri": "https://localhost:8080/"
        },
        "id": "e16de45d-a86a-4339-8fde-7081c544bc7e",
        "outputId": "e3ab4d7e-de40-4790-ad66-6ecd875d7422",
        "execution": {
          "iopub.status.busy": "2022-11-25T05:18:24.977353Z",
          "iopub.execute_input": "2022-11-25T05:18:24.977672Z",
          "iopub.status.idle": "2022-11-25T05:18:24.990486Z",
          "shell.execute_reply.started": "2022-11-25T05:18:24.977643Z",
          "shell.execute_reply": "2022-11-25T05:18:24.989531Z"
        },
        "trusted": true
      },
      "execution_count": null,
      "outputs": [
        {
          "output_type": "stream",
          "name": "stdout",
          "text": [
            "(97, 96)\n"
          ]
        },
        {
          "output_type": "execute_result",
          "data": {
            "text/plain": [
              "array([[0., 0., 0., ..., 0., 0., 0.],\n",
              "       [1., 0., 0., ..., 0., 0., 0.],\n",
              "       [0., 1., 0., ..., 0., 0., 0.],\n",
              "       ...,\n",
              "       [0., 0., 0., ..., 1., 0., 0.],\n",
              "       [0., 0., 0., ..., 0., 1., 0.],\n",
              "       [0., 0., 0., ..., 0., 0., 1.]])"
            ]
          },
          "metadata": {},
          "execution_count": 31
        }
      ],
      "id": "e16de45d-a86a-4339-8fde-7081c544bc7e"
    },
    {
      "cell_type": "code",
      "source": [
        "from keras.layers import Input, Embedding, Activation, Flatten, Dense\n",
        "from keras.layers import Conv1D, MaxPooling1D, Dropout\n",
        "from keras.models import Model"
      ],
      "metadata": {
        "id": "7473502a-13a7-4162-9161-5c7cec478697",
        "execution": {
          "iopub.status.busy": "2022-11-25T05:18:25.172128Z",
          "iopub.execute_input": "2022-11-25T05:18:25.172529Z",
          "iopub.status.idle": "2022-11-25T05:18:25.178796Z",
          "shell.execute_reply.started": "2022-11-25T05:18:25.172493Z",
          "shell.execute_reply": "2022-11-25T05:18:25.177313Z"
        },
        "trusted": true
      },
      "execution_count": null,
      "outputs": [],
      "id": "7473502a-13a7-4162-9161-5c7cec478697"
    },
    {
      "cell_type": "code",
      "source": [],
      "metadata": {
        "id": "Ene8Ns91ot_K"
      },
      "id": "Ene8Ns91ot_K",
      "execution_count": null,
      "outputs": []
    },
    {
      "cell_type": "code",
      "source": [
        "# parameter \n",
        "input_size = np.vectorize(len)(train_data[\"text\"]).max()\n",
        "#vocab_size = 69\n",
        "embedding_size = 96\n",
        "conv_layers = [[256, 9, 3], \n",
        "               [256, 9, 3], \n",
        "               [256, 5, -1], \n",
        "               [256, 5, -1], \n",
        "               [256, 5, -1], \n",
        "               [256, 3, 3]]\n",
        "\n",
        "fully_connected_layers = [1024, 1024]\n",
        "num_of_classes = 2\n",
        "dropout_p = 0.5\n",
        "optimizer = 'adam'\n",
        "loss = tf.keras.losses.SparseCategoricalCrossentropy()"
      ],
      "metadata": {
        "id": "3fd312ef-ef46-44ca-9d07-a176d7d06bc1",
        "execution": {
          "iopub.status.busy": "2022-11-25T05:18:28.906934Z",
          "iopub.execute_input": "2022-11-25T05:18:28.907689Z",
          "iopub.status.idle": "2022-11-25T05:18:28.915221Z",
          "shell.execute_reply.started": "2022-11-25T05:18:28.907642Z",
          "shell.execute_reply": "2022-11-25T05:18:28.914097Z"
        },
        "trusted": true
      },
      "execution_count": null,
      "outputs": [],
      "id": "3fd312ef-ef46-44ca-9d07-a176d7d06bc1"
    },
    {
      "cell_type": "code",
      "source": [
        "# Embedding layer Initialization\n",
        "embedding_layer = Embedding(vocab_size+1, \n",
        "                            embedding_size,\n",
        "                            input_length=input_size,\n",
        "                            weights=[embedding_weights])"
      ],
      "metadata": {
        "id": "53e2cfbc-1f9d-442e-9acb-85bc3b41aa84",
        "execution": {
          "iopub.status.busy": "2022-11-25T05:18:29.944870Z",
          "iopub.execute_input": "2022-11-25T05:18:29.945566Z",
          "iopub.status.idle": "2022-11-25T05:18:30.020132Z",
          "shell.execute_reply.started": "2022-11-25T05:18:29.945530Z",
          "shell.execute_reply": "2022-11-25T05:18:30.016977Z"
        },
        "trusted": true
      },
      "execution_count": null,
      "outputs": [],
      "id": "53e2cfbc-1f9d-442e-9acb-85bc3b41aa84"
    },
    {
      "cell_type": "code",
      "source": [
        "\n"
      ],
      "metadata": {
        "id": "WpCKqXf1Ghej"
      },
      "id": "WpCKqXf1Ghej",
      "execution_count": null,
      "outputs": []
    },
    {
      "cell_type": "code",
      "source": [
        "# Model \n",
        "\n",
        "# Input\n",
        "inputs = Input(shape=(input_size,), name='input', dtype='int16')  # shape=(?, 1014)\n",
        "# Embedding \n",
        "x = embedding_layer(inputs)\n",
        "# Conv\n",
        "for filter_num, filter_size, pooling_size in conv_layers:\n",
        "    x = Conv1D(filter_num, filter_size)(x) \n",
        "    x = Activation('relu')(x)\n",
        "    if pooling_size != -1:\n",
        "        x = MaxPooling1D(pool_size=pooling_size)(x) # Final shape=(None, 34, 256)\n",
        "x = Flatten()(x) # (None, 8704)\n",
        "# Fully connected layers \n",
        "for dense_size in fully_connected_layers:\n",
        "    x = Dense(dense_size, activation='relu')(x) # dense_size == 1024\n",
        "    x = Dropout(dropout_p)(x)\n",
        "# Output Layer\n",
        "predictions = Dense(num_of_classes, activation='softmax')(x)\n",
        "# Build model\n",
        "model = Model(inputs=inputs, outputs=predictions)\n",
        "optim = tf.keras.optimizers.Adam(lr=0.02)\n",
        "model.compile(optimizer=optim, metrics=['accuracy'],\n",
        "              loss= loss) # Adam,\n",
        "model.summary()"
      ],
      "metadata": {
        "id": "4549fb56-af68-4eb6-a1d1-469ce78e0f47",
        "colab": {
          "base_uri": "https://localhost:8080/"
        },
        "outputId": "cf2617be-0eb6-4867-a2a6-45f372138941",
        "execution": {
          "iopub.status.busy": "2022-11-25T05:18:32.488795Z",
          "iopub.execute_input": "2022-11-25T05:18:32.492325Z",
          "iopub.status.idle": "2022-11-25T05:18:33.486000Z",
          "shell.execute_reply.started": "2022-11-25T05:18:32.492116Z",
          "shell.execute_reply": "2022-11-25T05:18:33.482911Z"
        },
        "trusted": true
      },
      "execution_count": null,
      "outputs": [
        {
          "output_type": "stream",
          "name": "stdout",
          "text": [
            "Model: \"model\"\n",
            "_________________________________________________________________\n",
            " Layer (type)                Output Shape              Param #   \n",
            "=================================================================\n",
            " input (InputLayer)          [(None, 374)]             0         \n",
            "                                                                 \n",
            " embedding (Embedding)       (None, 374, 96)           9312      \n",
            "                                                                 \n",
            " conv1d (Conv1D)             (None, 366, 256)          221440    \n",
            "                                                                 \n",
            " activation (Activation)     (None, 366, 256)          0         \n",
            "                                                                 \n",
            " max_pooling1d (MaxPooling1D  (None, 122, 256)         0         \n",
            " )                                                               \n",
            "                                                                 \n",
            " conv1d_1 (Conv1D)           (None, 114, 256)          590080    \n",
            "                                                                 \n",
            " activation_1 (Activation)   (None, 114, 256)          0         \n",
            "                                                                 \n",
            " max_pooling1d_1 (MaxPooling  (None, 38, 256)          0         \n",
            " 1D)                                                             \n",
            "                                                                 \n",
            " conv1d_2 (Conv1D)           (None, 34, 256)           327936    \n",
            "                                                                 \n",
            " activation_2 (Activation)   (None, 34, 256)           0         \n",
            "                                                                 \n",
            " conv1d_3 (Conv1D)           (None, 30, 256)           327936    \n",
            "                                                                 \n",
            " activation_3 (Activation)   (None, 30, 256)           0         \n",
            "                                                                 \n",
            " conv1d_4 (Conv1D)           (None, 26, 256)           327936    \n",
            "                                                                 \n",
            " activation_4 (Activation)   (None, 26, 256)           0         \n",
            "                                                                 \n",
            " conv1d_5 (Conv1D)           (None, 24, 256)           196864    \n",
            "                                                                 \n",
            " activation_5 (Activation)   (None, 24, 256)           0         \n",
            "                                                                 \n",
            " max_pooling1d_2 (MaxPooling  (None, 8, 256)           0         \n",
            " 1D)                                                             \n",
            "                                                                 \n",
            " flatten (Flatten)           (None, 2048)              0         \n",
            "                                                                 \n",
            " dense (Dense)               (None, 1024)              2098176   \n",
            "                                                                 \n",
            " dropout (Dropout)           (None, 1024)              0         \n",
            "                                                                 \n",
            " dense_1 (Dense)             (None, 1024)              1049600   \n",
            "                                                                 \n",
            " dropout_1 (Dropout)         (None, 1024)              0         \n",
            "                                                                 \n",
            " dense_2 (Dense)             (None, 2)                 2050      \n",
            "                                                                 \n",
            "=================================================================\n",
            "Total params: 5,151,330\n",
            "Trainable params: 5,151,330\n",
            "Non-trainable params: 0\n",
            "_________________________________________________________________\n"
          ]
        },
        {
          "output_type": "stream",
          "name": "stderr",
          "text": [
            "/usr/local/lib/python3.8/dist-packages/keras/optimizers/optimizer_v2/adam.py:110: UserWarning: The `lr` argument is deprecated, use `learning_rate` instead.\n",
            "  super(Adam, self).__init__(name, **kwargs)\n"
          ]
        }
      ],
      "id": "4549fb56-af68-4eb6-a1d1-469ce78e0f47"
    },
    {
      "cell_type": "code",
      "source": [
        "train_label = train_data.loc[train_data_tweet.index][\"target\"]\n",
        "train_label.value_counts()"
      ],
      "metadata": {
        "id": "0413a4ac-e2c2-49c6-805d-912363eead62",
        "colab": {
          "base_uri": "https://localhost:8080/"
        },
        "outputId": "cf36846b-7a3d-44c8-cf41-9a4ee4bead01",
        "execution": {
          "iopub.status.busy": "2022-11-25T05:18:44.004875Z",
          "iopub.execute_input": "2022-11-25T05:18:44.005319Z",
          "iopub.status.idle": "2022-11-25T05:18:45.124556Z",
          "shell.execute_reply.started": "2022-11-25T05:18:44.005282Z",
          "shell.execute_reply": "2022-11-25T05:18:45.123339Z"
        },
        "trusted": true
      },
      "execution_count": null,
      "outputs": [
        {
          "output_type": "execute_result",
          "data": {
            "text/plain": [
              "0    800000\n",
              "4    800000\n",
              "Name: target, dtype: int64"
            ]
          },
          "metadata": {},
          "execution_count": 36
        }
      ],
      "id": "0413a4ac-e2c2-49c6-805d-912363eead62"
    },
    {
      "cell_type": "code",
      "source": [
        "\n",
        "train_label = train_label.astype('category')\n",
        "train_label = train_label.cat.codes\n",
        "train_label"
      ],
      "metadata": {
        "id": "4e312e58-0867-4596-b2ca-dc2476028fe3",
        "colab": {
          "base_uri": "https://localhost:8080/"
        },
        "outputId": "5d66e106-ef56-42fc-fc24-f4d0c8b50ae0",
        "execution": {
          "iopub.status.busy": "2022-11-25T05:18:48.308348Z",
          "iopub.execute_input": "2022-11-25T05:18:48.308778Z",
          "iopub.status.idle": "2022-11-25T05:18:48.338430Z",
          "shell.execute_reply.started": "2022-11-25T05:18:48.308727Z",
          "shell.execute_reply": "2022-11-25T05:18:48.337262Z"
        },
        "trusted": true
      },
      "execution_count": null,
      "outputs": [
        {
          "output_type": "execute_result",
          "data": {
            "text/plain": [
              "250977     0\n",
              "150064     0\n",
              "710275     0\n",
              "367641     0\n",
              "575674     0\n",
              "          ..\n",
              "661055     0\n",
              "204614     0\n",
              "1525073    1\n",
              "1263115    1\n",
              "1225567    1\n",
              "Length: 1600000, dtype: int8"
            ]
          },
          "metadata": {},
          "execution_count": 37
        }
      ],
      "id": "4e312e58-0867-4596-b2ca-dc2476028fe3"
    },
    {
      "cell_type": "code",
      "source": [
        "type(train_label)"
      ],
      "metadata": {
        "id": "tiYDBZa5_X91",
        "colab": {
          "base_uri": "https://localhost:8080/"
        },
        "outputId": "0f6b7cca-bf39-4c0a-d4e2-ea8728adfdb7",
        "execution": {
          "iopub.status.busy": "2022-11-25T05:18:51.188451Z",
          "iopub.execute_input": "2022-11-25T05:18:51.189552Z",
          "iopub.status.idle": "2022-11-25T05:18:51.196853Z",
          "shell.execute_reply.started": "2022-11-25T05:18:51.189510Z",
          "shell.execute_reply": "2022-11-25T05:18:51.195549Z"
        },
        "trusted": true
      },
      "execution_count": null,
      "outputs": [
        {
          "output_type": "execute_result",
          "data": {
            "text/plain": [
              "pandas.core.series.Series"
            ]
          },
          "metadata": {},
          "execution_count": 38
        }
      ],
      "id": "tiYDBZa5_X91"
    },
    {
      "cell_type": "code",
      "source": [
        "train_label = train_label.to_numpy(dtype = int)\n",
        "type(train_label)"
      ],
      "metadata": {
        "id": "oHDtAcf6_8FR",
        "colab": {
          "base_uri": "https://localhost:8080/"
        },
        "outputId": "e954e45c-5b9c-40cb-e0f0-2c07a34f8b82",
        "execution": {
          "iopub.status.busy": "2022-11-25T05:18:51.706820Z",
          "iopub.execute_input": "2022-11-25T05:18:51.707819Z",
          "iopub.status.idle": "2022-11-25T05:18:51.721678Z",
          "shell.execute_reply.started": "2022-11-25T05:18:51.707772Z",
          "shell.execute_reply": "2022-11-25T05:18:51.720207Z"
        },
        "trusted": true
      },
      "execution_count": null,
      "outputs": [
        {
          "output_type": "execute_result",
          "data": {
            "text/plain": [
              "numpy.ndarray"
            ]
          },
          "metadata": {},
          "execution_count": 39
        }
      ],
      "id": "oHDtAcf6_8FR"
    },
    {
      "cell_type": "code",
      "source": [
        "np.unique(train_label)"
      ],
      "metadata": {
        "id": "oXanIJ1-AmN-",
        "colab": {
          "base_uri": "https://localhost:8080/"
        },
        "outputId": "fb1d20be-c98f-47ed-e44f-a9a94ca9c36c",
        "execution": {
          "iopub.status.busy": "2022-11-25T05:18:52.936917Z",
          "iopub.execute_input": "2022-11-25T05:18:52.937515Z",
          "iopub.status.idle": "2022-11-25T05:18:52.995967Z",
          "shell.execute_reply.started": "2022-11-25T05:18:52.937482Z",
          "shell.execute_reply": "2022-11-25T05:18:52.995216Z"
        },
        "trusted": true
      },
      "execution_count": null,
      "outputs": [
        {
          "output_type": "execute_result",
          "data": {
            "text/plain": [
              "array([0, 1])"
            ]
          },
          "metadata": {},
          "execution_count": 40
        }
      ],
      "id": "oXanIJ1-AmN-"
    },
    {
      "cell_type": "code",
      "source": [
        "from sklearn.model_selection import train_test_split\n",
        "X_train, X_test, y_train, y_test = train_test_split(train_data_tweets, train_label, test_size=0.10, random_state = 101)\n",
        "X_train, X_val, y_train, y_val = train_test_split(X_train, y_train, test_size=0.10, random_state = 101)\n",
        "X_train.shape, y_train.shape"
      ],
      "metadata": {
        "id": "d73122fc-5269-417b-9c84-3667be9c828b",
        "colab": {
          "base_uri": "https://localhost:8080/"
        },
        "outputId": "32864f74-300c-485e-f38b-957fc3892ee2",
        "execution": {
          "iopub.status.busy": "2022-11-25T05:18:56.520317Z",
          "iopub.execute_input": "2022-11-25T05:18:56.521445Z",
          "iopub.status.idle": "2022-11-25T05:19:05.464305Z",
          "shell.execute_reply.started": "2022-11-25T05:18:56.521402Z",
          "shell.execute_reply": "2022-11-25T05:19:05.462823Z"
        },
        "trusted": true
      },
      "execution_count": null,
      "outputs": [
        {
          "output_type": "execute_result",
          "data": {
            "text/plain": [
              "((1296000, 374), (1296000,))"
            ]
          },
          "metadata": {},
          "execution_count": 41
        }
      ],
      "id": "d73122fc-5269-417b-9c84-3667be9c828b"
    },
    {
      "cell_type": "code",
      "source": [
        "checkpoint_filepath = '/content/checkpoint'\n",
        "model_checkpoint_callback = tf.keras.callbacks.ModelCheckpoint(\n",
        "    filepath=checkpoint_filepath,\n",
        "    save_weights_only=True,\n",
        "    monitor='val_loss',\n",
        "    mode='min',\n",
        "    save_best_only=True)"
      ],
      "metadata": {
        "id": "eZIQb_fxf7cG"
      },
      "id": "eZIQb_fxf7cG",
      "execution_count": null,
      "outputs": []
    },
    {
      "cell_type": "code",
      "source": [
        "\n",
        "history_1 = model.fit(  np.array(X_train,np.float16), \n",
        "                        y_train,\n",
        "                        #class_weight = {0: 1, 1:2},\n",
        "                        epochs = 8,\n",
        "                        batch_size = 1024,\n",
        "                        validation_data = [np.array(X_val,np.float16),y_val],\n",
        "                        callbacks = [model_checkpoint_callback]\n",
        "                      )"
      ],
      "metadata": {
        "id": "4df06c23-a740-4931-ad70-705cebaa4b65",
        "colab": {
          "base_uri": "https://localhost:8080/"
        },
        "outputId": "6c5973d6-3803-4bf7-922c-ea61d259754a",
        "execution": {
          "iopub.status.busy": "2022-11-25T05:32:26.765415Z",
          "iopub.execute_input": "2022-11-25T05:32:26.765891Z",
          "iopub.status.idle": "2022-11-25T05:32:26.811151Z",
          "shell.execute_reply.started": "2022-11-25T05:32:26.765835Z",
          "shell.execute_reply": "2022-11-25T05:32:26.808905Z"
        },
        "trusted": true
      },
      "execution_count": null,
      "outputs": [
        {
          "output_type": "stream",
          "name": "stdout",
          "text": [
            "Epoch 1/8\n",
            "1266/1266 [==============================] - 414s 317ms/step - loss: 0.6692 - accuracy: 0.5759 - val_loss: 0.6233 - val_accuracy: 0.6533\n",
            "Epoch 2/8\n",
            "1266/1266 [==============================] - 402s 317ms/step - loss: 0.6034 - accuracy: 0.6741 - val_loss: 0.5870 - val_accuracy: 0.6892\n",
            "Epoch 3/8\n",
            "1266/1266 [==============================] - 402s 317ms/step - loss: 0.5715 - accuracy: 0.7031 - val_loss: 0.5603 - val_accuracy: 0.7108\n",
            "Epoch 4/8\n",
            "1266/1266 [==============================] - 402s 317ms/step - loss: 0.5492 - accuracy: 0.7206 - val_loss: 0.5433 - val_accuracy: 0.7243\n",
            "Epoch 5/8\n",
            "1266/1266 [==============================] - 401s 317ms/step - loss: 0.5334 - accuracy: 0.7324 - val_loss: 0.5310 - val_accuracy: 0.7330\n",
            "Epoch 6/8\n",
            "1266/1266 [==============================] - 402s 318ms/step - loss: 0.5212 - accuracy: 0.7415 - val_loss: 0.5239 - val_accuracy: 0.7384\n",
            "Epoch 7/8\n",
            "1266/1266 [==============================] - 402s 318ms/step - loss: 0.5120 - accuracy: 0.7477 - val_loss: 0.5170 - val_accuracy: 0.7425\n",
            "Epoch 8/8\n",
            "1266/1266 [==============================] - 402s 317ms/step - loss: 0.5030 - accuracy: 0.7543 - val_loss: 0.5079 - val_accuracy: 0.7496\n"
          ]
        }
      ],
      "id": "4df06c23-a740-4931-ad70-705cebaa4b65"
    },
    {
      "cell_type": "code",
      "source": [
        "model.load_weights(checkpoint_filepath)"
      ],
      "metadata": {
        "colab": {
          "base_uri": "https://localhost:8080/"
        },
        "id": "RYkizRh8ms50",
        "outputId": "07dcca8c-83b3-428b-f1cc-19b665a1201b"
      },
      "id": "RYkizRh8ms50",
      "execution_count": null,
      "outputs": [
        {
          "output_type": "execute_result",
          "data": {
            "text/plain": [
              "<tensorflow.python.training.tracking.util.CheckpointLoadStatus at 0x7f8e205751c0>"
            ]
          },
          "metadata": {},
          "execution_count": 45
        }
      ]
    },
    {
      "cell_type": "code",
      "source": [
        "from sklearn.metrics import classification_report\n",
        "\n",
        "preds = np.argmax(model.predict(X_val), axis=1)\n",
        "target_names = ['negative',  'positive']\n",
        "print(classification_report(y_val, preds, target_names=target_names))"
      ],
      "metadata": {
        "colab": {
          "base_uri": "https://localhost:8080/"
        },
        "id": "yr54wJqEcbAe",
        "outputId": "66d0beb8-4bb0-4081-d674-6aae3cfdc496"
      },
      "id": "yr54wJqEcbAe",
      "execution_count": null,
      "outputs": [
        {
          "output_type": "stream",
          "name": "stdout",
          "text": [
            "4500/4500 [==============================] - 19s 4ms/step\n",
            "              precision    recall  f1-score   support\n",
            "\n",
            "    negative       0.74      0.77      0.75     71844\n",
            "    positive       0.76      0.73      0.75     72156\n",
            "\n",
            "    accuracy                           0.75    144000\n",
            "   macro avg       0.75      0.75      0.75    144000\n",
            "weighted avg       0.75      0.75      0.75    144000\n",
            "\n"
          ]
        }
      ]
    },
    {
      "cell_type": "code",
      "source": [
        "from sklearn.metrics import confusion_matrix\n",
        "\n",
        "preds = np.argmax(model.predict(X_val), axis=1)\n",
        "confusion_matrix(y_val, preds)"
      ],
      "metadata": {
        "id": "7391e49b-0a69-49dd-bb05-d22433b17597",
        "colab": {
          "base_uri": "https://localhost:8080/"
        },
        "outputId": "606742c4-f7bc-4a87-9eca-a27697637a22"
      },
      "execution_count": null,
      "outputs": [
        {
          "output_type": "stream",
          "name": "stdout",
          "text": [
            "4500/4500 [==============================] - 19s 4ms/step\n"
          ]
        },
        {
          "output_type": "execute_result",
          "data": {
            "text/plain": [
              "array([[55003, 16841],\n",
              "       [19212, 52944]])"
            ]
          },
          "metadata": {},
          "execution_count": 47
        }
      ],
      "id": "7391e49b-0a69-49dd-bb05-d22433b17597"
    },
    {
      "cell_type": "code",
      "source": [
        "target_names = ['negative',  'positive']\n",
        "print(classification_report(y_val, preds, target_names=target_names))"
      ],
      "metadata": {
        "id": "BgoPJ4XWQy9O",
        "colab": {
          "base_uri": "https://localhost:8080/"
        },
        "outputId": "bef34390-b387-4a1e-f183-62aef76b8409"
      },
      "execution_count": null,
      "outputs": [
        {
          "output_type": "stream",
          "name": "stdout",
          "text": [
            "              precision    recall  f1-score   support\n",
            "\n",
            "    negative       0.74      0.77      0.75     71844\n",
            "    positive       0.76      0.73      0.75     72156\n",
            "\n",
            "    accuracy                           0.75    144000\n",
            "   macro avg       0.75      0.75      0.75    144000\n",
            "weighted avg       0.75      0.75      0.75    144000\n",
            "\n"
          ]
        }
      ],
      "id": "BgoPJ4XWQy9O"
    },
    {
      "cell_type": "markdown",
      "source": [
        "## Validation on test dataset"
      ],
      "metadata": {
        "id": "d9uwBqIoBj4k"
      },
      "id": "d9uwBqIoBj4k"
    },
    {
      "cell_type": "code",
      "source": [
        "preds = np.argmax(model.predict(X_test), axis=1)\n",
        "confusion_matrix(y_test, preds)"
      ],
      "metadata": {
        "colab": {
          "base_uri": "https://localhost:8080/"
        },
        "id": "TO22h7CND8-Q",
        "outputId": "77ffc7b1-4c75-4458-cef0-74aa0d726879"
      },
      "execution_count": null,
      "outputs": [
        {
          "output_type": "stream",
          "name": "stdout",
          "text": [
            "5000/5000 [==============================] - 21s 4ms/step\n"
          ]
        },
        {
          "output_type": "execute_result",
          "data": {
            "text/plain": [
              "array([[61765, 18773],\n",
              "       [21028, 58434]])"
            ]
          },
          "metadata": {},
          "execution_count": 49
        }
      ],
      "id": "TO22h7CND8-Q"
    },
    {
      "cell_type": "code",
      "source": [
        "target_names = ['negative','positive']\n",
        "print(classification_report(y_test, preds, target_names=target_names))"
      ],
      "metadata": {
        "colab": {
          "base_uri": "https://localhost:8080/"
        },
        "id": "hLVExroBEKE1",
        "outputId": "563f8d52-2786-439a-c060-e49c79ab0490"
      },
      "execution_count": null,
      "outputs": [
        {
          "output_type": "stream",
          "name": "stdout",
          "text": [
            "              precision    recall  f1-score   support\n",
            "\n",
            "    negative       0.75      0.77      0.76     80538\n",
            "    positive       0.76      0.74      0.75     79462\n",
            "\n",
            "    accuracy                           0.75    160000\n",
            "   macro avg       0.75      0.75      0.75    160000\n",
            "weighted avg       0.75      0.75      0.75    160000\n",
            "\n"
          ]
        }
      ],
      "id": "hLVExroBEKE1"
    },
    {
      "cell_type": "code",
      "source": [],
      "metadata": {
        "id": "9-uWhWxFiUP-"
      },
      "id": "9-uWhWxFiUP-",
      "execution_count": null,
      "outputs": []
    }
  ]
}