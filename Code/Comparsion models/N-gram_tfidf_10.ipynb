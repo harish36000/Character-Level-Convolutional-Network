{
  "cells": [
    {
      "cell_type": "code",
      "execution_count": 1,
      "id": "4e79c805-661a-4db7-9410-197578005c62",
      "metadata": {
        "id": "4e79c805-661a-4db7-9410-197578005c62"
      },
      "outputs": [],
      "source": [
        "# Setting all warnings off\n",
        "import warnings\n",
        "warnings.filterwarnings(\"ignore\")"
      ]
    },
    {
      "cell_type": "code",
      "execution_count": 2,
      "id": "5a3a2eb2-030b-48bf-9801-7f570c823d2c",
      "metadata": {
        "id": "5a3a2eb2-030b-48bf-9801-7f570c823d2c"
      },
      "outputs": [],
      "source": [
        "import pandas as pd\n",
        "import sys\n",
        "import re"
      ]
    },
    {
      "cell_type": "code",
      "execution_count": 3,
      "id": "bb3c2635-fcec-4e41-bac2-0b7e003f3eeb",
      "metadata": {
        "id": "bb3c2635-fcec-4e41-bac2-0b7e003f3eeb"
      },
      "outputs": [],
      "source": [
        "def delete_line():\n",
        "    sys.stdout.write('\\x1b[1A')\n",
        "    sys.stdout.write('\\x1b[2K')"
      ]
    },
    {
      "cell_type": "code",
      "execution_count": 4,
      "id": "61eba014-d486-4f48-b8db-ec6d699bd28a",
      "metadata": {
        "id": "61eba014-d486-4f48-b8db-ec6d699bd28a"
      },
      "outputs": [],
      "source": [
        "characters = \"abcdefghijklmnopqrstuvwxyz0123456789-,;.!?:'\\\"/\\\\|_@#$%^&*~`+ =<>()[]{}\"\n",
        "characters_2 = \"abcdefghijklmnopqrstuvwxyz@# \"\n",
        "url_chars = r\"(?i)\\b((?:https?://|www\\d{0,3}[.]|[a-z0-9.\\-]+[.][a-z]{2,4}/)(?:[^\\s()<>]+|\\(([^\\s()<>]+|(\\([^\\s()<>]+\\)))*\\))+(?:\\(([^\\s()<>]+|(\\([^\\s()<>]+\\)))*\\)|[^\\s`!()\\[\\]{};:'\\\".,<>?«»“”‘’]))\""
      ]
    },
    {
      "cell_type": "code",
      "execution_count": 5,
      "id": "5368328a-efc6-4893-9fd9-b9f0edf56895",
      "metadata": {
        "id": "5368328a-efc6-4893-9fd9-b9f0edf56895"
      },
      "outputs": [],
      "source": [
        "def lower_case(tweet_data):\n",
        "    for i, tweet in enumerate(tweet_data):\n",
        "        tweet_data.iloc[i] = tweet.lower()\n",
        "    return tweet_data"
      ]
    },
    {
      "cell_type": "code",
      "execution_count": 6,
      "id": "5fe7516d-9ff6-4646-a4e1-0eed763ababe",
      "metadata": {
        "id": "5fe7516d-9ff6-4646-a4e1-0eed763ababe"
      },
      "outputs": [],
      "source": [
        "def character_clean(tweet_data):\n",
        "    for i, tweet in enumerate(tweet_data):\n",
        "        sentence = ''\n",
        "        for char in tweet:\n",
        "            if char in characters_2:\n",
        "                sentence += char\n",
        "        tweet_data.iloc[i] = sentence\n",
        "    return tweet_data"
      ]
    },
    {
      "cell_type": "code",
      "execution_count": 7,
      "id": "5cdbaca7-2fed-4a90-92e8-2f0e41fb430f",
      "metadata": {
        "id": "5cdbaca7-2fed-4a90-92e8-2f0e41fb430f"
      },
      "outputs": [],
      "source": [
        "def remove_hastag(tweet_data):\n",
        "    for i, tweet in enumerate(tweet_data):\n",
        "        ignore = 0\n",
        "        sentence = ''\n",
        "        for char in tweet:\n",
        "            if char == '#':\n",
        "                ignore = 1\n",
        "            if ignore == 1 and char == ' ':\n",
        "                ignore = 0\n",
        "            if ignore == 0:\n",
        "                sentence += char\n",
        "        tweet_data.iloc[i] = sentence\n",
        "    return tweet_data"
      ]
    },
    {
      "cell_type": "code",
      "execution_count": 8,
      "id": "abe6b07d-293d-419c-8f3c-00b43a7f84e8",
      "metadata": {
        "id": "abe6b07d-293d-419c-8f3c-00b43a7f84e8"
      },
      "outputs": [],
      "source": [
        "def remove_userid(tweet_data):\n",
        "    for i, tweet in enumerate(tweet_data):\n",
        "        ignore = 0\n",
        "        sentence = ''\n",
        "        for char in tweet:\n",
        "            if char == '@':\n",
        "                ignore = 1\n",
        "            if ignore == 1 and char == ' ':\n",
        "                ignore = 0\n",
        "            if ignore == 0:\n",
        "                sentence += char\n",
        "        tweet_data.iloc[i] = sentence\n",
        "    return tweet_data"
      ]
    },
    {
      "cell_type": "code",
      "execution_count": 9,
      "id": "468df2f0-e4db-4b7a-86e5-827d7db1d4cc",
      "metadata": {
        "id": "468df2f0-e4db-4b7a-86e5-827d7db1d4cc"
      },
      "outputs": [],
      "source": [
        "def remove_url(tweet_data):\n",
        "    for i, tweet in enumerate(tweet_data):\n",
        "        url = re.findall(url_chars, tweet)\n",
        "        to_remove = [x[0] for x in url]\n",
        "        for _url in to_remove:\n",
        "            tweet = tweet.replace(_url, '')\n",
        "        sentence = tweet\n",
        "        tweet_data.iloc[i] = sentence\n",
        "    return tweet_data"
      ]
    },
    {
      "cell_type": "code",
      "execution_count": null,
      "id": "-DTRZ2nY6n-Z",
      "metadata": {
        "id": "-DTRZ2nY6n-Z"
      },
      "outputs": [],
      "source": []
    },
    {
      "cell_type": "code",
      "execution_count": 10,
      "id": "lxUu-LtH6omn",
      "metadata": {
        "colab": {
          "base_uri": "https://localhost:8080/"
        },
        "id": "lxUu-LtH6omn",
        "outputId": "452a518a-b705-4c1b-b8a4-ee06abd9e2d6"
      },
      "outputs": [],
      "source": [
        "#from google.colab import drive\n",
        "#drive.mount('/content/drive')"
      ]
    },
    {
      "cell_type": "code",
      "execution_count": 11,
      "id": "e90366bd-059b-4c40-8146-afcb19048c7c",
      "metadata": {
        "id": "e90366bd-059b-4c40-8146-afcb19048c7c"
      },
      "outputs": [],
      "source": [
        "file = \"training.csv\""
      ]
    },
    {
      "cell_type": "code",
      "execution_count": 12,
      "id": "3222d400-aee4-43cd-b6b9-23c6f6a80477",
      "metadata": {
        "colab": {
          "base_uri": "https://localhost:8080/"
        },
        "id": "3222d400-aee4-43cd-b6b9-23c6f6a80477",
        "outputId": "7d29c9ba-cc3c-4a7a-91bd-fb3df0b2ef3c"
      },
      "outputs": [
        {
          "data": {
            "text/plain": [
              "{'encoding': 'utf-8', 'confidence': 0.99, 'language': ''}"
            ]
          },
          "execution_count": 12,
          "metadata": {},
          "output_type": "execute_result"
        }
      ],
      "source": [
        "import chardet\n",
        "with open(file, 'rb') as rawdata:\n",
        "    result = chardet.detect(rawdata.read(100000))\n",
        "result"
      ]
    },
    {
      "cell_type": "code",
      "execution_count": 13,
      "id": "3f75ec06-9259-493d-af15-12f9221393b9",
      "metadata": {
        "id": "3f75ec06-9259-493d-af15-12f9221393b9"
      },
      "outputs": [],
      "source": [
        "colnames = [\"target\",\"ids\",\"date\",\"flag\",\"user\",\"text\"]\n",
        "\n",
        "train_data = pd.read_csv(file,encoding='ISO-8859-1',names=colnames, header=None)"
      ]
    },
    {
      "cell_type": "code",
      "execution_count": 14,
      "id": "0694a4d1-d3f2-44c8-a45c-8ec0a13f13fb",
      "metadata": {
        "colab": {
          "base_uri": "https://localhost:8080/"
        },
        "id": "0694a4d1-d3f2-44c8-a45c-8ec0a13f13fb",
        "outputId": "452875f0-3d03-47ed-d990-b9eb243a7daa"
      },
      "outputs": [
        {
          "data": {
            "text/plain": [
              "array([0, 4])"
            ]
          },
          "execution_count": 14,
          "metadata": {},
          "output_type": "execute_result"
        }
      ],
      "source": [
        "train_data['target'].unique()"
      ]
    },
    {
      "cell_type": "code",
      "execution_count": 15,
      "id": "8cda0567-6ed6-4b27-833a-3f9e87306988",
      "metadata": {
        "colab": {
          "base_uri": "https://localhost:8080/"
        },
        "id": "8cda0567-6ed6-4b27-833a-3f9e87306988",
        "outputId": "0276ba42-9020-402c-8336-dbd4ded308d6"
      },
      "outputs": [
        {
          "data": {
            "text/plain": [
              "0    800000\n",
              "4    800000\n",
              "Name: target, dtype: int64"
            ]
          },
          "execution_count": 15,
          "metadata": {},
          "output_type": "execute_result"
        }
      ],
      "source": [
        "train_data['target'].value_counts()"
      ]
    },
    {
      "cell_type": "code",
      "execution_count": 16,
      "id": "f27a444e-aec6-4588-998f-9e29755011a1",
      "metadata": {
        "colab": {
          "base_uri": "https://localhost:8080/"
        },
        "id": "f27a444e-aec6-4588-998f-9e29755011a1",
        "outputId": "4a480bd7-fca4-4cfb-b2c9-7614bc720ed8"
      },
      "outputs": [
        {
          "data": {
            "text/plain": [
              "250977    @Kardboard yea  ugh. I don't wanna move either...\n",
              "150064    Guess there's a first time for everything, my ...\n",
              "710275    My cousin is going to America and it's NOT FAI...\n",
              "367641    @mitchelmusso Ahh this is my first comment to ...\n",
              "575674    taking care of my good friend jessica she is s...\n",
              "                                ...                        \n",
              "110202    NOT ONLY AM I UP AND CANT SLEEP, I JUST WATCHE...\n",
              "777860    Upset that j1s have taken over my cosy spot in...\n",
              "268962    I'm wondering what to wear today...  I sure wi...\n",
              "983370    @EmoPartyGirl yeh whistlers cool u ever see cr...\n",
              "796007                                Its storm'n ova here \n",
              "Name: text, Length: 160000, dtype: object"
            ]
          },
          "execution_count": 16,
          "metadata": {},
          "output_type": "execute_result"
        }
      ],
      "source": [
        "train_data_tweet = train_data['text'].sample(frac = 0.1, random_state = 101)\n",
        "train_data_emo = train_data['target'].sample(frac = 0.1, random_state = 101)\n",
        "train_data_tweet"
      ]
    },
    {
      "cell_type": "markdown",
      "id": "74bcbeea-adc0-4333-afd9-3862e2445490",
      "metadata": {
        "id": "74bcbeea-adc0-4333-afd9-3862e2445490"
      },
      "source": [
        "## Preprocessing"
      ]
    },
    {
      "cell_type": "code",
      "execution_count": 17,
      "id": "4930c951-45c8-43fb-b8b2-ce9c4bc98fa9",
      "metadata": {
        "colab": {
          "base_uri": "https://localhost:8080/"
        },
        "id": "4930c951-45c8-43fb-b8b2-ce9c4bc98fa9",
        "outputId": "d27f4325-8e9c-48c7-db3c-083538e6a2f5"
      },
      "outputs": [
        {
          "data": {
            "text/plain": [
              "250977    @kardboard yea  ugh. i don't wanna move either...\n",
              "150064    guess there's a first time for everything, my ...\n",
              "710275    my cousin is going to america and it's not fai...\n",
              "367641    @mitchelmusso ahh this is my first comment to ...\n",
              "575674    taking care of my good friend jessica she is s...\n",
              "                                ...                        \n",
              "110202    not only am i up and cant sleep, i just watche...\n",
              "777860    upset that j1s have taken over my cosy spot in...\n",
              "268962    i'm wondering what to wear today...  i sure wi...\n",
              "983370    @emopartygirl yeh whistlers cool u ever see cr...\n",
              "796007                                its storm'n ova here \n",
              "Name: text, Length: 160000, dtype: object"
            ]
          },
          "execution_count": 17,
          "metadata": {},
          "output_type": "execute_result"
        }
      ],
      "source": [
        "train_data_tweet = lower_case(train_data_tweet)\n",
        "train_data_tweet"
      ]
    },
    {
      "cell_type": "code",
      "execution_count": 18,
      "id": "27ae0c3a-f0d9-4653-bde9-53a42ef41d16",
      "metadata": {
        "colab": {
          "base_uri": "https://localhost:8080/"
        },
        "id": "27ae0c3a-f0d9-4653-bde9-53a42ef41d16",
        "outputId": "e3b174fd-74e2-45e2-8422-0dc2c9edf21b"
      },
      "outputs": [
        {
          "data": {
            "text/plain": [
              "250977    @kardboard yea  ugh. i don't wanna move either...\n",
              "150064    guess there's a first time for everything, my ...\n",
              "710275    my cousin is going to america and it's not fai...\n",
              "367641    @mitchelmusso ahh this is my first comment to ...\n",
              "575674    taking care of my good friend jessica she is s...\n",
              "                                ...                        \n",
              "110202    not only am i up and cant sleep, i just watche...\n",
              "777860    upset that j1s have taken over my cosy spot in...\n",
              "268962    i'm wondering what to wear today...  i sure wi...\n",
              "983370    @emopartygirl yeh whistlers cool u ever see cr...\n",
              "796007                                its storm'n ova here \n",
              "Name: text, Length: 160000, dtype: object"
            ]
          },
          "execution_count": 18,
          "metadata": {},
          "output_type": "execute_result"
        }
      ],
      "source": [
        "train_data_tweet = remove_url(train_data_tweet)\n",
        "train_data_tweet"
      ]
    },
    {
      "cell_type": "code",
      "execution_count": 19,
      "id": "aa67e1ef-94d9-4757-ac7d-1b7240cab663",
      "metadata": {
        "colab": {
          "base_uri": "https://localhost:8080/"
        },
        "id": "aa67e1ef-94d9-4757-ac7d-1b7240cab663",
        "outputId": "4b7b637c-b93b-447f-c0f3-5991634d8398"
      },
      "outputs": [
        {
          "data": {
            "text/plain": [
              "250977     yea  ugh. i don't wanna move either because a...\n",
              "150064    guess there's a first time for everything, my ...\n",
              "710275    my cousin is going to america and it's not fai...\n",
              "367641     ahh this is my first comment to youu!! love i...\n",
              "575674    taking care of my good friend jessica she is s...\n",
              "                                ...                        \n",
              "110202    not only am i up and cant sleep, i just watche...\n",
              "777860    upset that j1s have taken over my cosy spot in...\n",
              "268962    i'm wondering what to wear today...  i sure wi...\n",
              "983370       yeh whistlers cool u ever see crankworks comp \n",
              "796007                                its storm'n ova here \n",
              "Name: text, Length: 160000, dtype: object"
            ]
          },
          "execution_count": 19,
          "metadata": {},
          "output_type": "execute_result"
        }
      ],
      "source": [
        "train_data_tweet = remove_userid(train_data_tweet)\n",
        "train_data_tweet"
      ]
    },
    {
      "cell_type": "code",
      "execution_count": 20,
      "id": "47229991-3007-4f7b-8e5c-b6b1af12f61b",
      "metadata": {
        "colab": {
          "base_uri": "https://localhost:8080/"
        },
        "id": "47229991-3007-4f7b-8e5c-b6b1af12f61b",
        "outputId": "85abbdf2-0fa3-4c02-f44d-aa3bcab85443"
      },
      "outputs": [
        {
          "data": {
            "text/plain": [
              "250977     yea  ugh. i don't wanna move either because a...\n",
              "150064    guess there's a first time for everything, my ...\n",
              "710275    my cousin is going to america and it's not fai...\n",
              "367641     ahh this is my first comment to youu!! love i...\n",
              "575674    taking care of my good friend jessica she is s...\n",
              "                                ...                        \n",
              "110202    not only am i up and cant sleep, i just watche...\n",
              "777860    upset that j1s have taken over my cosy spot in...\n",
              "268962    i'm wondering what to wear today...  i sure wi...\n",
              "983370       yeh whistlers cool u ever see crankworks comp \n",
              "796007                                its storm'n ova here \n",
              "Name: text, Length: 160000, dtype: object"
            ]
          },
          "execution_count": 20,
          "metadata": {},
          "output_type": "execute_result"
        }
      ],
      "source": [
        "train_data_tweet = remove_hastag(train_data_tweet)\n",
        "train_data_tweet"
      ]
    },
    {
      "cell_type": "code",
      "execution_count": 21,
      "id": "106271b6-2cee-47ce-9ea0-d43ecc7e98b2",
      "metadata": {
        "colab": {
          "base_uri": "https://localhost:8080/"
        },
        "id": "106271b6-2cee-47ce-9ea0-d43ecc7e98b2",
        "outputId": "ed97ea87-50fe-4839-f636-1bfab187d7aa"
      },
      "outputs": [
        {
          "data": {
            "text/plain": [
              "250977     yea  ugh i dont wanna move either because all...\n",
              "150064    guess theres a first time for everything my ca...\n",
              "710275    my cousin is going to america and its not fair...\n",
              "367641     ahh this is my first comment to youu love it ...\n",
              "575674    taking care of my good friend jessica she is s...\n",
              "                                ...                        \n",
              "110202    not only am i up and cant sleep i just watched...\n",
              "777860    upset that js have taken over my cosy spot in ...\n",
              "268962    im wondering what to wear today  i sure wish i...\n",
              "983370       yeh whistlers cool u ever see crankworks comp \n",
              "796007                                 its stormn ova here \n",
              "Name: text, Length: 160000, dtype: object"
            ]
          },
          "execution_count": 21,
          "metadata": {},
          "output_type": "execute_result"
        }
      ],
      "source": [
        "train_data_tweet = character_clean(train_data_tweet)\n",
        "train_data_tweet"
      ]
    },
    {
      "cell_type": "markdown",
      "id": "9287fc32",
      "metadata": {},
      "source": [
        "## n-grams TFIDF"
      ]
    },
    {
      "cell_type": "code",
      "execution_count": 22,
      "id": "8dbb5b68",
      "metadata": {},
      "outputs": [
        {
          "name": "stdout",
          "output_type": "stream",
          "text": [
            "              precision    recall  f1-score   support\n",
            "\n",
            "    negative       0.78      0.74      0.76     16029\n",
            "    positive       0.75      0.79      0.77     15971\n",
            "\n",
            "    accuracy                           0.76     32000\n",
            "   macro avg       0.76      0.76      0.76     32000\n",
            "weighted avg       0.76      0.76      0.76     32000\n",
            "\n"
          ]
        }
      ],
      "source": [
        "import numpy as np\n",
        "from sklearn.feature_extraction.text import TfidfVectorizer\n",
        "from sklearn.model_selection import train_test_split\n",
        "from sklearn.linear_model import LogisticRegression\n",
        "from sklearn.metrics import classification_report\n",
        "\n",
        "\n",
        "tweet_word = TfidfVectorizer(max_features=500000, lowercase=True, analyzer='word',stop_words= 'english',ngram_range=(1,5),dtype=np.float32)\n",
        "tw_f = tweet_word.fit_transform(train_data_tweet)\n",
        "\n",
        "X_train, X_test, y_train, y_test = train_test_split(tw_f, train_data_emo, test_size=0.2, random_state=42)\n",
        "clf = LogisticRegression(multi_class='multinomial',solver ='newton-cg').fit(X_train,y_train)\n",
        "y_pred=clf.predict(X_test)\n",
        "target_names = ['negative',  'positive']\n",
        "print(classification_report(y_test, y_pred, target_names=target_names))\n"
      ]
    }
  ],
  "metadata": {
    "colab": {
      "collapsed_sections": [
        "027ccf2c-e83c-4867-a996-12ee56ac6b08",
        "d9uwBqIoBj4k"
      ],
      "provenance": []
    },
    "gpuClass": "standard",
    "kernelspec": {
      "display_name": "Python 3.10.5 64-bit",
      "language": "python",
      "name": "python3"
    },
    "language_info": {
      "codemirror_mode": {
        "name": "ipython",
        "version": 3
      },
      "file_extension": ".py",
      "mimetype": "text/x-python",
      "name": "python",
      "nbconvert_exporter": "python",
      "pygments_lexer": "ipython3",
      "version": "3.10.5"
    },
    "vscode": {
      "interpreter": {
        "hash": "aee8b7b246df8f9039afb4144a1f6fd8d2ca17a180786b69acc140d282b71a49"
      }
    }
  },
  "nbformat": 4,
  "nbformat_minor": 5
}
